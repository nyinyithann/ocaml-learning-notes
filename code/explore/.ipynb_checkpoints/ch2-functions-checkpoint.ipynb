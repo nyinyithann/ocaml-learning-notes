{
 "cells": [
  {
   "cell_type": "code",
   "execution_count": null,
   "id": "94f3848c-127a-4289-87a5-af16382aeb80",
   "metadata": {},
   "outputs": [],
   "source": [
    "let rec find_first_repeat lst =\n",
    "    match lst with\n",
    "    | [] | [_] -> None\n",
    "    | x :: y :: tl -> \n",
    "        if x = y then Some x else find_first_repeat (y::tl);;\n",
    "        \n",
    "find_first_repeat [1;2;2;3;4];;\n",
    "find_first_repeat [];;"
   ]
  },
  {
   "cell_type": "code",
   "execution_count": null,
   "id": "a99e572c-9bdb-4ab4-84c3-e80b76760179",
   "metadata": {},
   "outputs": [],
   "source": [
    "let rec is_even n =\n",
    "    if n = 0 then true else is_odd (n-1)\n",
    "and is_odd n =\n",
    "    if n = 0 then false else is_even (n-1) ;;\n",
    "\n",
    "is_even 101 ;;\n",
    "is_odd 11;;"
   ]
  },
  {
   "cell_type": "code",
   "execution_count": null,
   "id": "fec94ac3-7242-427e-b879-df5021f3f94f",
   "metadata": {},
   "outputs": [],
   "source": [
    "(** associativity **)\n",
    "(** **..., @..., ^..., ::, & &&, or ||, <- :=, ;   \n",
    "Right associativity*)\n",
    "\n",
    "#require \"Base\";;\n",
    "open Base;;\n",
    "\n",
    "let ( **- )  x y =  x * (x - y);;  \n",
    "2 **- 3 **- 4;; (** 10 **)\n",
    "\n",
    "let double x = x + x;;\n",
    "let string_of_int x = Printf.sprintf \"%d\" x;;\n",
    "\n",
    "string_of_int @@ double 10;; \n",
    "10 |> double |> string_of_int;;"
   ]
  },
  {
   "cell_type": "code",
   "execution_count": null,
   "id": "6b256d11-6fb9-4553-a642-a1dbdd94088b",
   "metadata": {},
   "outputs": [],
   "source": [
    "let concat  x ?(sep=\"\") y  = x ^ sep ^ y;;\n",
    "let partial = concat \"hello\";;    \n",
    "partial ~sep:\" $ \" \"World!\";;"
   ]
  },
  {
   "cell_type": "code",
   "execution_count": 15,
   "id": "ff93f652-8783-48a3-92f1-2c84ec21593c",
   "metadata": {},
   "outputs": [
    {
     "data": {
      "text/plain": [
       "val plus : Base.Int.t -> Base.Int.t = <fun>\n"
      ]
     },
     "execution_count": 15,
     "metadata": {},
     "output_type": "execute_result"
    },
    {
     "data": {
      "text/plain": [
       "val apply : f:('a -> Base.Int.t) -> 'a -> 'a -> Base.Int.t = <fun>\n"
      ]
     },
     "execution_count": 15,
     "metadata": {},
     "output_type": "execute_result"
    },
    {
     "data": {
      "text/plain": [
       "- : Base.Int.t = 4\n"
      ]
     },
     "execution_count": 15,
     "metadata": {},
     "output_type": "execute_result"
    },
    {
     "data": {
      "text/plain": [
       "val apply_2 :\n",
       "  f:(x:Base.int -> Base.int) -> Base.int -> Base.int -> Base.Int.t = <fun>\n"
      ]
     },
     "execution_count": 15,
     "metadata": {},
     "output_type": "execute_result"
    },
    {
     "data": {
      "text/plain": [
       "- : Base.Int.t = 4\n"
      ]
     },
     "execution_count": 15,
     "metadata": {},
     "output_type": "execute_result"
    }
   ],
   "source": [
    "let plus x = x + 1;;\n",
    "let apply ~f x y = f x + f y;;\n",
    "apply ~f:plus 1 1;;\n",
    "\n",
    "(**\n",
    "    let plus_label ~x = x + 1;;\n",
    "    apply ~f:plus_label 1 1;; (** error here *)\n",
    "*)\n",
    "\n",
    "let apply_2 ~(f: x:int -> int) x y = f x + f y;;\n",
    "apply_2 ~f:plus_label 1 1;;"
   ]
  },
  {
   "cell_type": "code",
   "execution_count": null,
   "id": "ded5ee51-d309-4e58-9e08-4feefb44a658",
   "metadata": {},
   "outputs": [],
   "source": []
  }
 ],
 "metadata": {
  "kernelspec": {
   "display_name": "OCaml 4.12.0",
   "language": "OCaml",
   "name": "ocaml-jupyter-4.12.0"
  },
  "language_info": {
   "codemirror_mode": "text/x-ocaml",
   "file_extension": ".ml",
   "mimetype": "text/x-ocaml",
   "name": "OCaml",
   "nbconverter_exporter": null,
   "pygments_lexer": "OCaml",
   "version": "4.12.0"
  }
 },
 "nbformat": 4,
 "nbformat_minor": 5
}
