{
 "cells": [
  {
   "cell_type": "code",
   "execution_count": 44,
   "id": "b6b1921c-89ea-4557-b541-661701a3cdd9",
   "metadata": {},
   "outputs": [
    {
     "data": {
      "text/plain": [
       "val newline : unit -> unit = <fun>\n"
      ]
     },
     "execution_count": 44,
     "metadata": {},
     "output_type": "execute_result"
    },
    {
     "data": {
      "text/plain": [
       "val print_int : int -> unit = <fun>\n"
      ]
     },
     "execution_count": 44,
     "metadata": {},
     "output_type": "execute_result"
    }
   ],
   "source": [
    "let newline = print_newline;;\n",
    "let print_int i = Printf.printf \"%d \"  i;;"
   ]
  },
  {
   "cell_type": "code",
   "execution_count": 45,
   "id": "2cdc4d70-0d2d-4fb5-bcaa-6cbc660dffdc",
   "metadata": {},
   "outputs": [
    {
     "data": {
      "text/plain": [
       "module type X_int = sig val x : int end\n"
      ]
     },
     "execution_count": 45,
     "metadata": {},
     "output_type": "execute_result"
    },
    {
     "data": {
      "text/plain": [
       "module One : X_int\n"
      ]
     },
     "execution_count": 45,
     "metadata": {},
     "output_type": "execute_result"
    },
    {
     "data": {
      "text/plain": [
       "module Two : X_int\n"
      ]
     },
     "execution_count": 45,
     "metadata": {},
     "output_type": "execute_result"
    },
    {
     "data": {
      "text/plain": [
       "module Three : sig val x : int end\n"
      ]
     },
     "execution_count": 45,
     "metadata": {},
     "output_type": "execute_result"
    },
    {
     "data": {
      "text/plain": [
       "val one : (module X_int) = <module>\n"
      ]
     },
     "execution_count": 45,
     "metadata": {},
     "output_type": "execute_result"
    },
    {
     "data": {
      "text/plain": [
       "val two : (module X_int) = <module>\n"
      ]
     },
     "execution_count": 45,
     "metadata": {},
     "output_type": "execute_result"
    },
    {
     "data": {
      "text/plain": [
       "val three : (module X_int) = <module>\n"
      ]
     },
     "execution_count": 45,
     "metadata": {},
     "output_type": "execute_result"
    },
    {
     "data": {
      "text/plain": [
       "val four : (module X_int) = <module>\n"
      ]
     },
     "execution_count": 45,
     "metadata": {},
     "output_type": "execute_result"
    },
    {
     "data": {
      "text/plain": [
       "val to_int : (module X_int) -> int = <fun>\n"
      ]
     },
     "execution_count": 45,
     "metadata": {},
     "output_type": "execute_result"
    },
    {
     "data": {
      "text/plain": [
       "val numbers : (module X_int) list =\n",
       "  [<module>; <module>; <module>; <module>; <module>]\n"
      ]
     },
     "execution_count": 45,
     "metadata": {},
     "output_type": "execute_result"
    },
    {
     "name": "stdout",
     "output_type": "stream",
     "text": [
      "1 2 3 4 5 \n"
     ]
    },
    {
     "data": {
      "text/plain": [
       "- : unit = ()\n"
      ]
     },
     "execution_count": 45,
     "metadata": {},
     "output_type": "execute_result"
    },
    {
     "data": {
      "text/plain": [
       "val plus : (module X_int) -> (module X_int) -> (module X_int) = <fun>\n"
      ]
     },
     "execution_count": 45,
     "metadata": {},
     "output_type": "execute_result"
    },
    {
     "name": "stdout",
     "output_type": "stream",
     "text": [
      "1 \n"
     ]
    },
    {
     "data": {
      "text/plain": [
       "- : unit = ()\n"
      ]
     },
     "execution_count": 45,
     "metadata": {},
     "output_type": "execute_result"
    },
    {
     "data": {
      "text/plain": [
       "val sum : (module X_int) = <module>\n"
      ]
     },
     "execution_count": 45,
     "metadata": {},
     "output_type": "execute_result"
    },
    {
     "data": {
      "text/plain": [
       "- : unit = ()\n"
      ]
     },
     "execution_count": 45,
     "metadata": {},
     "output_type": "execute_result"
    },
    {
     "name": "stdout",
     "output_type": "stream",
     "text": [
      "15 \n"
     ]
    },
    {
     "data": {
      "text/plain": [
       "- : unit = ()\n"
      ]
     },
     "execution_count": 45,
     "metadata": {},
     "output_type": "execute_result"
    }
   ],
   "source": [
    "(* first class module *)\n",
    "module type X_int = sig val x : int end;;\n",
    "module One:X_int = struct let x = 1 end;;\n",
    "module Two = (struct let x = 2 end : X_int);;\n",
    "module Three = struct let x = 3 end;;\n",
    "\n",
    "let one = (module One: X_int);;\n",
    "let two = (module Two:X_int);;\n",
    "let three = (module Three:X_int);;\n",
    "let four = (module struct let x = 4 end : X_int);;\n",
    "\n",
    "let to_int (module M : X_int) = M.x;;\n",
    "(* let to_int m = let module M = (val m: X_int) in M.x *)\n",
    "\n",
    "let numbers = [one; two; three; four; (module struct let x = 5 end : X_int)];;\n",
    "numbers |> List.iter (fun m -> print_int (to_int m)); newline();;\n",
    "\n",
    "let plus m1 m2 = (module struct let x = to_int m1 + to_int m2 end : X_int);;\n",
    "print_int (to_int (plus one (module struct let x = 0 end : X_int))); \n",
    "newline();;\n",
    "\n",
    "let sum = numbers |> List.fold_left (fun init m -> plus init m) (module struct let x = 0 end: X_int);;\n",
    "print_int (to_int sum);;\n",
    "newline();;"
   ]
  },
  {
   "cell_type": "code",
   "execution_count": 46,
   "id": "dc908bb1-2403-477f-be9d-c6c7def62df5",
   "metadata": {},
   "outputs": [
    {
     "data": {
      "text/plain": [
       "module type Bumpable = sig type t val bump : t -> t end\n"
      ]
     },
     "execution_count": 46,
     "metadata": {},
     "output_type": "execute_result"
    },
    {
     "data": {
      "text/plain": [
       "module Int_bumper : sig type t = int val bump : int -> int end\n"
      ]
     },
     "execution_count": 46,
     "metadata": {},
     "output_type": "execute_result"
    },
    {
     "data": {
      "text/plain": [
       "module Float_bumper : sig type t = float val bump : float -> float end\n"
      ]
     },
     "execution_count": 46,
     "metadata": {},
     "output_type": "execute_result"
    },
    {
     "data": {
      "text/plain": [
       "val int_bumper : (module Bumpable with type t = int) = <module>\n"
      ]
     },
     "execution_count": 46,
     "metadata": {},
     "output_type": "execute_result"
    },
    {
     "data": {
      "text/plain": [
       "- : int = 2\n"
      ]
     },
     "execution_count": 46,
     "metadata": {},
     "output_type": "execute_result"
    },
    {
     "data": {
      "text/plain": [
       "val bump : (module Bumpable with type t = int) -> int = <fun>\n"
      ]
     },
     "execution_count": 46,
     "metadata": {},
     "output_type": "execute_result"
    },
    {
     "data": {
      "text/plain": [
       "- : int = 3\n"
      ]
     },
     "execution_count": 46,
     "metadata": {},
     "output_type": "execute_result"
    },
    {
     "data": {
      "text/plain": [
       "val bump : (module Bumpable with type t = 'a) -> 'a -> 'a = <fun>\n"
      ]
     },
     "execution_count": 46,
     "metadata": {},
     "output_type": "execute_result"
    },
    {
     "data": {
      "text/plain": [
       "- : int = 12\n"
      ]
     },
     "execution_count": 46,
     "metadata": {},
     "output_type": "execute_result"
    },
    {
     "data": {
      "text/plain": [
       "val bump_list : (module Bumpable with type t = 'a) -> 'a list -> 'a list =\n",
       "  <fun>\n"
      ]
     },
     "execution_count": 46,
     "metadata": {},
     "output_type": "execute_result"
    },
    {
     "data": {
      "text/plain": [
       "- : unit = ()\n"
      ]
     },
     "execution_count": 46,
     "metadata": {},
     "output_type": "execute_result"
    },
    {
     "name": "stdout",
     "output_type": "stream",
     "text": [
      "2 3 4 5 6 \n"
     ]
    },
    {
     "data": {
      "text/plain": [
       "- : unit = ()\n"
      ]
     },
     "execution_count": 46,
     "metadata": {},
     "output_type": "execute_result"
    }
   ],
   "source": [
    "(* first class module with locally abstract type *)\n",
    "module type Bumpable = sig\n",
    "    type t\n",
    "    val bump: t -> t\n",
    "end;;\n",
    "\n",
    "module Int_bumper = struct \n",
    "    type t = int\n",
    "    let bump n = n + 1\n",
    "end;;\n",
    "\n",
    "module Float_bumper = struct\n",
    "    type t = float\n",
    "    let bump n = n +. 1.\n",
    "end;;\n",
    "\n",
    "let int_bumper = (module Int_bumper: Bumpable with type t = int);; \n",
    "let (module Bumper) = int_bumper in Bumper.bump 1;;\n",
    "let bump m = let module Bumper = (val m : Bumpable with type t = int) in Bumper.bump 2;;\n",
    "bump int_bumper;;\n",
    "\n",
    "let bump (type a) (module Bumper: Bumpable with type t = a) n =  Bumper.bump n;;\n",
    "bump int_bumper 11;;\n",
    "\n",
    "let bump_list (type a) (module Bumper: Bumpable with type t = a) (l: a list) =\n",
    "    l |> List.map (fun x -> Bumper.bump x);;\n",
    "bump_list int_bumper [1;2;3;4;5] |> List.iter print_int;;\n",
    "newline();;"
   ]
  },
  {
   "cell_type": "code",
   "execution_count": 47,
   "id": "a72389b9-c58f-4784-bbeb-147117438c6b",
   "metadata": {},
   "outputs": [
    {
     "data": {
      "text/plain": [
       "module type Comparable = sig type t val compare : t -> t -> int end\n"
      ]
     },
     "execution_count": 47,
     "metadata": {},
     "output_type": "execute_result"
    },
    {
     "data": {
      "text/plain": [
       "val create_compare :\n",
       "  ('a -> 'a -> int) -> (module Comparable with type t = 'a) = <fun>\n"
      ]
     },
     "execution_count": 47,
     "metadata": {},
     "output_type": "execute_result"
    },
    {
     "data": {
      "text/plain": [
       "val int_compare : (module Comparable with type t = int) = <module>\n"
      ]
     },
     "execution_count": 47,
     "metadata": {},
     "output_type": "execute_result"
    }
   ],
   "source": [
    "module type Comparable = sig\n",
    "    type t\n",
    "    val compare: t -> t -> int\n",
    "end;;\n",
    "\n",
    "let create_compare (type a) cmp =\n",
    "    (module struct \n",
    "        type t = a\n",
    "        let compare = cmp\n",
    "    end : Comparable with type t = a);;\n",
    "\n",
    "let int_compare = create_compare Int.compare;;"
   ]
  },
  {
   "cell_type": "code",
   "execution_count": 48,
   "id": "e3fa9540-9832-4755-910e-1a5bd679f8bd",
   "metadata": {},
   "outputs": [
    {
     "data": {
      "text/plain": [
       "module type M = sig type 'a t val x : 'a t end\n"
      ]
     },
     "execution_count": 48,
     "metadata": {},
     "output_type": "execute_result"
    },
    {
     "data": {
      "text/plain": [
       "module ListM : sig type 'a t = 'a list val x : 'a t end\n"
      ]
     },
     "execution_count": 48,
     "metadata": {},
     "output_type": "execute_result"
    }
   ],
   "source": [
    "module type M = sig\n",
    "     type 'a t\n",
    "     val x : 'a t\n",
    "end\n",
    " \n",
    "module ListM : (M with type 'a t = 'a list) = struct\n",
    "     type 'a t = 'a list\n",
    "     let x : 'a t = []\n",
    "end"
   ]
  },
  {
   "cell_type": "code",
   "execution_count": null,
   "id": "bf865993-861e-44b6-b4d2-169bac8ae35d",
   "metadata": {},
   "outputs": [],
   "source": [
    "\n"
   ]
  }
 ],
 "metadata": {
  "kernelspec": {
   "display_name": "OCaml 4.12.0",
   "language": "OCaml",
   "name": "ocaml-jupyter"
  },
  "language_info": {
   "codemirror_mode": "text/x-ocaml",
   "file_extension": ".ml",
   "mimetype": "text/x-ocaml",
   "name": "OCaml",
   "nbconverter_exporter": null,
   "pygments_lexer": "OCaml",
   "version": "4.12.0"
  }
 },
 "nbformat": 4,
 "nbformat_minor": 5
}
