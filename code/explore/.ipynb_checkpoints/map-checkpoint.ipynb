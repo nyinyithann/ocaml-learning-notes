{
 "cells": [
  {
   "cell_type": "code",
   "execution_count": 2,
   "id": "d934bd4b-6a8f-4006-811f-374ece0beb4b",
   "metadata": {},
   "outputs": [
    {
     "data": {
      "text/plain": [
       "module StringMap :\n",
       "  sig\n",
       "    type key = String.t\n",
       "    type 'a t = 'a Map.Make(String).t\n",
       "    val empty : 'a t\n",
       "    val is_empty : 'a t -> bool\n",
       "    val mem : key -> 'a t -> bool\n",
       "    val add : key -> 'a -> 'a t -> 'a t\n",
       "    val update : key -> ('a option -> 'a option) -> 'a t -> 'a t\n",
       "    val singleton : key -> 'a -> 'a t\n",
       "    val remove : key -> 'a t -> 'a t\n",
       "    val merge :\n",
       "      (key -> 'a option -> 'b option -> 'c option) -> 'a t -> 'b t -> 'c t\n",
       "    val union : (key -> 'a -> 'a -> 'a option) -> 'a t -> 'a t -> 'a t\n",
       "    val compare : ('a -> 'a -> int) -> 'a t -> 'a t -> int\n",
       "    val equal : ('a -> 'a -> bool) -> 'a t -> 'a t -> bool\n",
       "    val iter : (key -> 'a -> unit) -> 'a t -> unit\n",
       "    val fold : (key -> 'a -> 'b -> 'b) -> 'a t -> 'b -> 'b\n",
       "    val for_all : (key -> 'a -> bool) -> 'a t -> bool\n",
       "    val exists : (key -> 'a -> bool) -> 'a t -> bool\n",
       "    val filter : (key -> 'a -> bool) -> 'a t -> 'a t\n",
       "    val filter_map : (key -> 'a -> 'b option) -> 'a t -> 'b t\n",
       "    val partition : (key -> 'a -> bool) -> 'a t -> 'a t * 'a t\n",
       "    val cardinal : 'a t -> int\n",
       "    val bindings : 'a t -> (key * 'a) list\n",
       "    val min_binding : 'a t -> key * 'a\n",
       "    val min_binding_opt : 'a t -> (key * 'a) option\n",
       "    val max_binding : 'a t -> key * 'a\n",
       "    val max_binding_opt : 'a t -> (key * 'a) option\n",
       "    val choose : 'a t -> key * 'a\n",
       "    val choose_opt : 'a t -> (key * 'a) option\n",
       "    val split : key -> 'a t -> 'a t * 'a option * 'a t\n",
       "    val find : key -> 'a t -> 'a\n",
       "    val find_opt : key -> 'a t -> 'a option\n",
       "    val find_first : (key -> bool) -> 'a t -> key * 'a\n",
       "    val find_first_opt : (key -> bool) -> 'a t -> (key * 'a) option\n",
       "    val find_last : (key -> bool) -> 'a t -> key * 'a\n",
       "    val find_last_opt : (key -> bool) -> 'a t -> (key * 'a) option\n",
       "    val map : ('a -> 'b) -> 'a t -> 'b t\n",
       "    val mapi : (key -> 'a -> 'b) -> 'a t -> 'b t\n",
       "    val to_seq : 'a t -> (key * 'a) Seq.t\n",
       "    val to_rev_seq : 'a t -> (key * 'a) Seq.t\n",
       "    val to_seq_from : key -> 'a t -> (key * 'a) Seq.t\n",
       "    val add_seq : (key * 'a) Seq.t -> 'a t -> 'a t\n",
       "    val of_seq : (key * 'a) Seq.t -> 'a t\n",
       "  end\n"
      ]
     },
     "execution_count": 2,
     "metadata": {},
     "output_type": "execute_result"
    },
    {
     "data": {
      "text/plain": [
       "val print : int StringMap.t -> unit = <fun>\n"
      ]
     },
     "execution_count": 2,
     "metadata": {},
     "output_type": "execute_result"
    },
    {
     "data": {
      "text/plain": [
       "val print_int_opt : int option -> unit = <fun>\n"
      ]
     },
     "execution_count": 2,
     "metadata": {},
     "output_type": "execute_result"
    },
    {
     "data": {
      "text/plain": [
       "val print_bool : bool -> unit = <fun>\n"
      ]
     },
     "execution_count": 2,
     "metadata": {},
     "output_type": "execute_result"
    },
    {
     "data": {
      "text/plain": [
       "val print_pair : string * int -> unit = <fun>\n"
      ]
     },
     "execution_count": 2,
     "metadata": {},
     "output_type": "execute_result"
    },
    {
     "data": {
      "text/plain": [
       "val print_opt_pair : (string * int) option -> unit = <fun>\n"
      ]
     },
     "execution_count": 2,
     "metadata": {},
     "output_type": "execute_result"
    },
    {
     "data": {
      "text/plain": [
       "val print_assoc_list : (string * int) list -> unit = <fun>\n"
      ]
     },
     "execution_count": 2,
     "metadata": {},
     "output_type": "execute_result"
    },
    {
     "data": {
      "text/plain": [
       "val print_seq : (string * int) Seq.t -> unit = <fun>\n"
      ]
     },
     "execution_count": 2,
     "metadata": {},
     "output_type": "execute_result"
    }
   ],
   "source": [
    "(* make StringMap and open it *)\n",
    "module StringMap = Map.Make (String)\n",
    "open StringMap\n",
    "\n",
    "(* printing utilities *)\n",
    "let print m =\n",
    "  iter (fun k v -> Printf.printf \"(%s -> %d) \" k v) m;\n",
    "  print_newline ()\n",
    "\n",
    "let print_int_opt = function\n",
    "  | None ->\n",
    "      print_string \"None\";\n",
    "      print_newline ()\n",
    "  | Some x ->\n",
    "      print_int x;\n",
    "      print_newline ()\n",
    "\n",
    "let print_bool b =\n",
    "  print_string (string_of_bool b);\n",
    "  print_newline ()\n",
    "\n",
    "let print_pair (k, v) =\n",
    "  Printf.printf \"(%s,%d)\" k v;\n",
    "  print_newline ()\n",
    "\n",
    "let print_opt_pair = function\n",
    "  | None ->\n",
    "      print_string \"None\";\n",
    "      print_newline ()\n",
    "  | Some p -> print_pair p\n",
    "\n",
    "let print_assoc_list l =\n",
    "  l |> List.iter print_pair;\n",
    "  print_newline ()\n",
    "\n",
    "let print_seq s = s |> Seq.iter print_pair "
   ]
  },
  {
   "cell_type": "code",
   "execution_count": 3,
   "id": "0f75d6f6-ebcf-4f75-beb7-af4d64f1ff51",
   "metadata": {},
   "outputs": [
    {
     "name": "stdout",
     "output_type": "stream",
     "text": [
      "(one -> 1) (two -> 2) \n",
      "(one -> 1) (three -> 33) (two -> 2) \n"
     ]
    },
    {
     "data": {
      "text/plain": [
       "- : unit = ()\n"
      ]
     },
     "execution_count": 3,
     "metadata": {},
     "output_type": "execute_result"
    }
   ],
   "source": [
    "(* empty & add *)\n",
    "  let m = empty |> add \"one\" 1 |> add \"two\" 2 in\n",
    "  print m;\n",
    "\n",
    "  (* add *)\n",
    "  let m = m |> add \"three\" 33 in\n",
    "  print m;"
   ]
  },
  {
   "cell_type": "code",
   "execution_count": 4,
   "id": "6944fb7f-12ff-4332-ba0d-f62473ff2dec",
   "metadata": {},
   "outputs": [
    {
     "name": "stdout",
     "output_type": "stream",
     "text": [
      "true\n",
      "false\n"
     ]
    },
    {
     "data": {
      "text/plain": [
       "- : unit = ()\n"
      ]
     },
     "execution_count": 4,
     "metadata": {},
     "output_type": "execute_result"
    }
   ],
   "source": [
    "  (* mem *)\n",
    "  let m = empty |> add \"one\" 1 |> add \"two\" 2 in\n",
    "  let b = m |> mem \"one\" in\n",
    "  print_bool b;\n",
    "  let b = m |> mem \"three\" in\n",
    "  print_bool b"
   ]
  },
  {
   "cell_type": "code",
   "execution_count": 5,
   "id": "c8ff1462-a25c-415d-8f18-cca904c816cc",
   "metadata": {},
   "outputs": [
    {
     "name": "stdout",
     "output_type": "stream",
     "text": [
      "(one -> 1) (three -> 3) (two -> 2) \n",
      "(one -> 111) (three -> 3) (two -> 2) \n"
     ]
    },
    {
     "data": {
      "text/plain": [
       "- : unit = ()\n"
      ]
     },
     "execution_count": 5,
     "metadata": {},
     "output_type": "execute_result"
    }
   ],
   "source": [
    "(* update *)\n",
    "let m = empty |> add \"one\" 1 |> add \"two\" 2 in\n",
    "let m = m |> update \"three\" (fun _ -> Some (3)) in\n",
    "print m;\n",
    "let m = m |> update \"one\" (function None -> None | Some x -> Some (x + 110)) in\n",
    "print m;"
   ]
  },
  {
   "cell_type": "code",
   "execution_count": 6,
   "id": "6013f85f-d699-4c50-9927-c12ef4517a84",
   "metadata": {},
   "outputs": [
    {
     "name": "stdout",
     "output_type": "stream",
     "text": [
      "(one -> 1) (two -> 2) \n"
     ]
    },
    {
     "data": {
      "text/plain": [
       "- : unit = ()\n"
      ]
     },
     "execution_count": 6,
     "metadata": {},
     "output_type": "execute_result"
    }
   ],
   "source": [
    "(* remove*)\n",
    "let m = empty |> add \"one\" 1 |> add \"two\" 2 |> add \"three\" 3 in\n",
    "let m = m |> remove \"three\" in\n",
    "print m;"
   ]
  },
  {
   "cell_type": "code",
   "execution_count": 7,
   "id": "77a1e40a-9be9-4e97-b5e7-d09700902501",
   "metadata": {},
   "outputs": [
    {
     "name": "stdout",
     "output_type": "stream",
     "text": [
      "two three one four * five * \n",
      "(five -> 5) (four -> 4) (one -> 2) (three -> 6) (two -> 4) \n"
     ]
    },
    {
     "data": {
      "text/plain": [
       "- : unit = ()\n"
      ]
     },
     "execution_count": 7,
     "metadata": {},
     "output_type": "execute_result"
    }
   ],
   "source": [
    "(* merge *)\n",
    "let m1 = empty |> add \"one\" 1 |> add \"two\" 2 |> add \"three\" 3 |> add \"four\" 4 in \n",
    "let m2 = empty |> add \"one\" 1 |> add \"two\" 2 |> add \"three\" 3 |> add \"five\" 5 in\n",
    "let fn k d1 d2 =\n",
    "  match d1, d2 with\n",
    "  | Some x1, Some x2 -> print_string (k ^ \" \"); Some (x1 + x2)\n",
    "  | None, x | x, None -> print_string (k ^ \" * \"); x in\n",
    "let m = merge fn m1 m2 in\n",
    "print_newline();\n",
    "print m;;"
   ]
  },
  {
   "cell_type": "code",
   "execution_count": 8,
   "id": "007a00c5-d8b5-4880-aec4-a5906693c3de",
   "metadata": {},
   "outputs": [
    {
     "data": {
      "text/plain": [
       "val m1 : int StringMap.t = <abstr>\n"
      ]
     },
     "execution_count": 8,
     "metadata": {},
     "output_type": "execute_result"
    },
    {
     "data": {
      "text/plain": [
       "val m2 : int StringMap.t = <abstr>\n"
      ]
     },
     "execution_count": 8,
     "metadata": {},
     "output_type": "execute_result"
    },
    {
     "data": {
      "text/plain": [
       "val fn : string -> int -> int -> int option = <fun>\n"
      ]
     },
     "execution_count": 8,
     "metadata": {},
     "output_type": "execute_result"
    },
    {
     "data": {
      "text/plain": [
       "val m : int StringMap.t = <abstr>\n"
      ]
     },
     "execution_count": 8,
     "metadata": {},
     "output_type": "execute_result"
    },
    {
     "name": "stdout",
     "output_type": "stream",
     "text": [
      "three two one \n",
      "(five -> 5) (four -> 4) (one -> 2) (three -> 6) (two -> 4) \n"
     ]
    },
    {
     "data": {
      "text/plain": [
       "- : unit = ()\n"
      ]
     },
     "execution_count": 8,
     "metadata": {},
     "output_type": "execute_result"
    }
   ],
   "source": [
    "(* union *)\n",
    "let m1 = empty |> add \"one\" 1 |> add \"two\" 2 |> add \"three\" 3 |> add \"four\" 4;;\n",
    "let m2 = empty |> add \"one\" 1 |> add \"two\" 2 |> add \"three\" 3 |> add \"five\" 5;;\n",
    "let fn k d1 d2 = print_string (k ^ \" \"); Some (d1 + d2);;\n",
    "let m = union fn m1 m2;;\n",
    "print_newline();\n",
    "print m;;"
   ]
  },
  {
   "cell_type": "code",
   "execution_count": 9,
   "id": "bdd518f5-899f-43bf-b7f5-f20d1dba7be3",
   "metadata": {},
   "outputs": [
    {
     "data": {
      "text/plain": [
       "val m1 : int StringMap.t = <abstr>\n"
      ]
     },
     "execution_count": 9,
     "metadata": {},
     "output_type": "execute_result"
    },
    {
     "data": {
      "text/plain": [
       "val m : int StringMap.t = <abstr>\n"
      ]
     },
     "execution_count": 9,
     "metadata": {},
     "output_type": "execute_result"
    },
    {
     "name": "stdout",
     "output_type": "stream",
     "text": [
      "(one -> 1) (two -> 2) \n"
     ]
    },
    {
     "data": {
      "text/plain": [
       "- : unit = ()\n"
      ]
     },
     "execution_count": 9,
     "metadata": {},
     "output_type": "execute_result"
    }
   ],
   "source": [
    "(* filter *)\n",
    "let m1 = empty |> add \"one\" 1 |> add \"two\" 2 |> add \"three\" 3 |> add \"four\" 4;;\n",
    "let m = m1 |> filter (fun k v -> k <> \"three\" && v <> 4);;\n",
    "print m;;"
   ]
  },
  {
   "cell_type": "code",
   "execution_count": 10,
   "id": "23f31197-8aec-4eb2-973e-0bbede3c53bb",
   "metadata": {},
   "outputs": [
    {
     "data": {
      "text/plain": [
       "val m1 : int StringMap.t = <abstr>\n"
      ]
     },
     "execution_count": 10,
     "metadata": {},
     "output_type": "execute_result"
    },
    {
     "data": {
      "text/plain": [
       "val m : int StringMap.t = <abstr>\n"
      ]
     },
     "execution_count": 10,
     "metadata": {},
     "output_type": "execute_result"
    },
    {
     "name": "stdout",
     "output_type": "stream",
     "text": [
      "(one -> 1) (three -> 9) \n"
     ]
    },
    {
     "data": {
      "text/plain": [
       "- : unit = ()\n"
      ]
     },
     "execution_count": 10,
     "metadata": {},
     "output_type": "execute_result"
    }
   ],
   "source": [
    "(* filter_map*)\n",
    "let m1 = empty |> add \"one\" 1 |> add \"two\" 2 |> add \"three\" 3 |> add \"four\" 4;;\n",
    "let m = m1 |> StringMap.filter_map(fun k v -> if v mod 2 = 1 then (Some (v * v)) else None);;\n",
    "print m;;   "
   ]
  },
  {
   "cell_type": "code",
   "execution_count": 11,
   "id": "0db86c82-2ce2-44db-ad02-91c0f70e5989",
   "metadata": {},
   "outputs": [
    {
     "data": {
      "text/plain": [
       "val m1 : int StringMap.t = <abstr>\n"
      ]
     },
     "execution_count": 11,
     "metadata": {},
     "output_type": "execute_result"
    },
    {
     "data": {
      "text/plain": [
       "val f : int StringMap.t = <abstr>\n",
       "val s : int StringMap.t = <abstr>\n"
      ]
     },
     "execution_count": 11,
     "metadata": {},
     "output_type": "execute_result"
    },
    {
     "name": "stdout",
     "output_type": "stream",
     "text": [
      "(four -> 4) (two -> 2) \n"
     ]
    },
    {
     "data": {
      "text/plain": [
       "- : unit = ()\n"
      ]
     },
     "execution_count": 11,
     "metadata": {},
     "output_type": "execute_result"
    },
    {
     "name": "stdout",
     "output_type": "stream",
     "text": [
      "(one -> 1) (three -> 3) \n"
     ]
    },
    {
     "data": {
      "text/plain": [
       "- : unit = ()\n"
      ]
     },
     "execution_count": 11,
     "metadata": {},
     "output_type": "execute_result"
    }
   ],
   "source": [
    "(* partition *)\n",
    "let m1 = empty |> add \"one\" 1 |> add \"two\" 2 |> add \"three\" 3 |> add \"four\" 4;;\n",
    "let (f, s) = m1 |> partition (fun k v -> v mod 2 = 0);;\n",
    "print f;;\n",
    "print s;;"
   ]
  },
  {
   "cell_type": "code",
   "execution_count": 12,
   "id": "13d3420e-f0c1-44c8-b37c-b258a694c24c",
   "metadata": {},
   "outputs": [
    {
     "data": {
      "text/plain": [
       "val m1 : int StringMap.t = <abstr>\n"
      ]
     },
     "execution_count": 12,
     "metadata": {},
     "output_type": "execute_result"
    },
    {
     "data": {
      "text/plain": [
       "val c : int = 2\n"
      ]
     },
     "execution_count": 12,
     "metadata": {},
     "output_type": "execute_result"
    },
    {
     "data": {
      "text/plain": [
       "- : unit = ()\n"
      ]
     },
     "execution_count": 12,
     "metadata": {},
     "output_type": "execute_result"
    }
   ],
   "source": [
    "(* cardinal *)\n",
    "let m1 = empty |> add \"one\" 1 |> add \"two\" 2 |> add \"three\" 3 |> add \"four\" 4;;\n",
    "let c = cardinal m;;\n",
    "print_int c;;"
   ]
  },
  {
   "cell_type": "code",
   "execution_count": 13,
   "id": "058da793-1775-4e58-8e97-b65bcf61cb65",
   "metadata": {},
   "outputs": [
    {
     "data": {
      "text/plain": [
       "val m1 : int StringMap.t = <abstr>\n"
      ]
     },
     "execution_count": 13,
     "metadata": {},
     "output_type": "execute_result"
    },
    {
     "name": "stdout",
     "output_type": "stream",
     "text": [
      "2(one -> 1) (two -> 2) \n"
     ]
    },
    {
     "data": {
      "text/plain": [
       "- : unit = ()\n"
      ]
     },
     "execution_count": 13,
     "metadata": {},
     "output_type": "execute_result"
    },
    {
     "data": {
      "text/plain": [
       "val m2 : int StringMap.t = <abstr>\n"
      ]
     },
     "execution_count": 13,
     "metadata": {},
     "output_type": "execute_result"
    },
    {
     "name": "stdout",
     "output_type": "stream",
     "text": [
      "(one -> 1) (three -> 3) (two -> 2) \n"
     ]
    },
    {
     "data": {
      "text/plain": [
       "- : unit = ()\n"
      ]
     },
     "execution_count": 13,
     "metadata": {},
     "output_type": "execute_result"
    },
    {
     "data": {
      "text/plain": [
       "val cmp : int = 1\n"
      ]
     },
     "execution_count": 13,
     "metadata": {},
     "output_type": "execute_result"
    },
    {
     "data": {
      "text/plain": [
       "- : unit = ()\n"
      ]
     },
     "execution_count": 13,
     "metadata": {},
     "output_type": "execute_result"
    },
    {
     "data": {
      "text/plain": [
       "val m1 : int StringMap.t = <abstr>\n"
      ]
     },
     "execution_count": 13,
     "metadata": {},
     "output_type": "execute_result"
    },
    {
     "data": {
      "text/plain": [
       "val m2 : int StringMap.t = <abstr>\n"
      ]
     },
     "execution_count": 13,
     "metadata": {},
     "output_type": "execute_result"
    },
    {
     "data": {
      "text/plain": [
       "val b : bool = true\n"
      ]
     },
     "execution_count": 13,
     "metadata": {},
     "output_type": "execute_result"
    },
    {
     "name": "stdout",
     "output_type": "stream",
     "text": [
      "1true\n"
     ]
    },
    {
     "data": {
      "text/plain": [
       "- : unit = ()\n"
      ]
     },
     "execution_count": 13,
     "metadata": {},
     "output_type": "execute_result"
    }
   ],
   "source": [
    "(* compare *)\n",
    "let m1 = empty |> add \"one\" 1 |> add \"two\" 2 ;;\n",
    "print m1;;\n",
    "let m2 = empty |> add \"one\" 1 |> add \"two\" 2|> add \"three\" 3;;\n",
    "print m2;;\n",
    "let cmp = StringMap.compare (fun d1 d2 -> Stdlib.compare d1 d2) m1 m2;;\n",
    "print_int cmp;;\n",
    "let m1 = empty |> add \"one\" 1 |> add \"two\" 2;;\n",
    "let m2 = empty |> add \"two\" 2 |> add \"one\" 1;;\n",
    "let b = equal (fun d1 d2 -> d1 = d2) m1 m2;;\n",
    "print_bool b;;"
   ]
  },
  {
   "cell_type": "code",
   "execution_count": 14,
   "id": "7ebedb4f-606d-44ef-96de-cd210020f653",
   "metadata": {},
   "outputs": [
    {
     "data": {
      "text/plain": [
       "val m1 : int StringMap.t = <abstr>\n"
      ]
     },
     "execution_count": 14,
     "metadata": {},
     "output_type": "execute_result"
    },
    {
     "data": {
      "text/plain": [
       "val r : int = 6\n"
      ]
     },
     "execution_count": 14,
     "metadata": {},
     "output_type": "execute_result"
    },
    {
     "data": {
      "text/plain": [
       "- : unit = ()\n"
      ]
     },
     "execution_count": 14,
     "metadata": {},
     "output_type": "execute_result"
    }
   ],
   "source": [
    "(* fold *)\n",
    "let m1 = empty |> add \"one\" 1 |> add \"two\" 2 |> add \"three\" 3;;\n",
    "let r = fold (fun k v acc -> acc + v) m1 0;;\n",
    "print_int r;;"
   ]
  },
  {
   "cell_type": "code",
   "execution_count": 15,
   "id": "3bcdc12d-8e18-4ad2-9f5f-b6b8dc730aa2",
   "metadata": {},
   "outputs": [
    {
     "data": {
      "text/plain": [
       "val m1 : int StringMap.t = <abstr>\n"
      ]
     },
     "execution_count": 15,
     "metadata": {},
     "output_type": "execute_result"
    },
    {
     "data": {
      "text/plain": [
       "val r : bool = true\n"
      ]
     },
     "execution_count": 15,
     "metadata": {},
     "output_type": "execute_result"
    },
    {
     "name": "stdout",
     "output_type": "stream",
     "text": [
      "6true\n"
     ]
    },
    {
     "data": {
      "text/plain": [
       "- : unit = ()\n"
      ]
     },
     "execution_count": 15,
     "metadata": {},
     "output_type": "execute_result"
    }
   ],
   "source": [
    "(* for_all *)\n",
    "let m1 = empty |> add \"one\" 1 |> add \"two\" 2 |> add \"three\" 3;;\n",
    "let r = m1 |> for_all (fun k v -> v > 0);;\n",
    "print_bool r;;"
   ]
  },
  {
   "cell_type": "code",
   "execution_count": 16,
   "id": "cda40e6b-626d-4313-9fae-83e8c70906c6",
   "metadata": {},
   "outputs": [
    {
     "data": {
      "text/plain": [
       "val m1 : int StringMap.t = <abstr>\n"
      ]
     },
     "execution_count": 16,
     "metadata": {},
     "output_type": "execute_result"
    },
    {
     "data": {
      "text/plain": [
       "val r : bool = true\n"
      ]
     },
     "execution_count": 16,
     "metadata": {},
     "output_type": "execute_result"
    },
    {
     "name": "stdout",
     "output_type": "stream",
     "text": [
      "true\n"
     ]
    },
    {
     "data": {
      "text/plain": [
       "- : unit = ()\n"
      ]
     },
     "execution_count": 16,
     "metadata": {},
     "output_type": "execute_result"
    }
   ],
   "source": [
    "(* exists *)\n",
    "let m1 = empty |> add \"one\" 1 |> add \"two\" 2 |> add \"three\" 3;;\n",
    "let r = m1 |> exists (fun k v -> v = 2);;\n",
    "print_bool r;;"
   ]
  },
  {
   "cell_type": "code",
   "execution_count": 17,
   "id": "cf95af2c-fb30-4f86-80be-18653023b25f",
   "metadata": {},
   "outputs": [
    {
     "data": {
      "text/plain": [
       "val m1 : int StringMap.t = <abstr>\n"
      ]
     },
     "execution_count": 17,
     "metadata": {},
     "output_type": "execute_result"
    },
    {
     "data": {
      "text/plain": [
       "val b : (StringMap.key * int) list = [(\"one\", 1); (\"three\", 3); (\"two\", 2)]\n"
      ]
     },
     "execution_count": 17,
     "metadata": {},
     "output_type": "execute_result"
    },
    {
     "name": "stdout",
     "output_type": "stream",
     "text": [
      "(one,1)\n",
      "(three,3)\n",
      "(two,2)\n",
      "\n"
     ]
    },
    {
     "data": {
      "text/plain": [
       "- : unit = ()\n"
      ]
     },
     "execution_count": 17,
     "metadata": {},
     "output_type": "execute_result"
    }
   ],
   "source": [
    "(* bindings *)\n",
    "let m1 = empty |> add \"one\" 1 |> add \"two\" 2 |> add \"three\" 3;;\n",
    "let b = m1 |> bindings;;\n",
    "print_assoc_list b;;"
   ]
  },
  {
   "cell_type": "code",
   "execution_count": 18,
   "id": "d863ab29-f876-4ca4-8d22-04a7cbd988d8",
   "metadata": {},
   "outputs": [
    {
     "data": {
      "text/plain": [
       "val m1 : int StringMap.t = <abstr>\n"
      ]
     },
     "execution_count": 18,
     "metadata": {},
     "output_type": "execute_result"
    },
    {
     "data": {
      "text/plain": [
       "val p : StringMap.key * int = (\"one\", 1)\n"
      ]
     },
     "execution_count": 18,
     "metadata": {},
     "output_type": "execute_result"
    },
    {
     "name": "stdout",
     "output_type": "stream",
     "text": [
      "(one,1)\n"
     ]
    },
    {
     "data": {
      "text/plain": [
       "- : unit = ()\n"
      ]
     },
     "execution_count": 18,
     "metadata": {},
     "output_type": "execute_result"
    }
   ],
   "source": [
    "(* min_binding *)\n",
    "let m1 = empty |> add \"one\" 1 |> add \"two\" 2 |> add \"three\" 3;;\n",
    "let p = m1 |> min_binding;;\n",
    "print_pair p;;"
   ]
  },
  {
   "cell_type": "code",
   "execution_count": 19,
   "id": "243f5c0f-d182-4d48-bba2-bad53aaddc4f",
   "metadata": {},
   "outputs": [
    {
     "data": {
      "text/plain": [
       "val m1 : int StringMap.t = <abstr>\n"
      ]
     },
     "execution_count": 19,
     "metadata": {},
     "output_type": "execute_result"
    },
    {
     "data": {
      "text/plain": [
       "val p : (StringMap.key * int) option = Some (\"one\", 1)\n"
      ]
     },
     "execution_count": 19,
     "metadata": {},
     "output_type": "execute_result"
    },
    {
     "name": "stdout",
     "output_type": "stream",
     "text": [
      "(one,1)\n"
     ]
    },
    {
     "data": {
      "text/plain": [
       "- : unit = ()\n"
      ]
     },
     "execution_count": 19,
     "metadata": {},
     "output_type": "execute_result"
    },
    {
     "name": "stdout",
     "output_type": "stream",
     "text": [
      "None\n"
     ]
    },
    {
     "data": {
      "text/plain": [
       "- : unit = ()\n"
      ]
     },
     "execution_count": 19,
     "metadata": {},
     "output_type": "execute_result"
    }
   ],
   "source": [
    "(* min_binding_opt *)\n",
    "let m1 = empty |> add \"one\" 1 |> add \"two\" 2 |> add \"three\" 3;;\n",
    "let p = m1 |> min_binding_opt;;\n",
    "print_opt_pair p;;\n",
    "\n",
    "print_opt_pair (empty |> min_binding_opt);;"
   ]
  },
  {
   "cell_type": "code",
   "execution_count": 20,
   "id": "1751ccc9-876e-4241-bfae-8033740b385d",
   "metadata": {},
   "outputs": [
    {
     "data": {
      "text/plain": [
       "val m1 : int StringMap.t = <abstr>\n"
      ]
     },
     "execution_count": 20,
     "metadata": {},
     "output_type": "execute_result"
    },
    {
     "data": {
      "text/plain": [
       "val p : StringMap.key * int = (\"two\", 2)\n"
      ]
     },
     "execution_count": 20,
     "metadata": {},
     "output_type": "execute_result"
    },
    {
     "name": "stdout",
     "output_type": "stream",
     "text": [
      "(two,2)\n"
     ]
    },
    {
     "data": {
      "text/plain": [
       "- : unit = ()\n"
      ]
     },
     "execution_count": 20,
     "metadata": {},
     "output_type": "execute_result"
    }
   ],
   "source": [
    "(* max_binding *)\n",
    "let m1 = empty |> add \"one\" 1 |> add \"two\" 2 |> add \"three\" 3;;\n",
    "let p = m1 |> max_binding;;\n",
    "print_pair p;;"
   ]
  },
  {
   "cell_type": "code",
   "execution_count": 21,
   "id": "16af2390-75c9-45d7-bcdb-37f0fcd78b5d",
   "metadata": {},
   "outputs": [
    {
     "data": {
      "text/plain": [
       "val m1 : int StringMap.t = <abstr>\n"
      ]
     },
     "execution_count": 21,
     "metadata": {},
     "output_type": "execute_result"
    },
    {
     "data": {
      "text/plain": [
       "val p : (StringMap.key * int) option = Some (\"two\", 2)\n"
      ]
     },
     "execution_count": 21,
     "metadata": {},
     "output_type": "execute_result"
    },
    {
     "name": "stdout",
     "output_type": "stream",
     "text": [
      "(two,2)\n"
     ]
    },
    {
     "data": {
      "text/plain": [
       "- : unit = ()\n"
      ]
     },
     "execution_count": 21,
     "metadata": {},
     "output_type": "execute_result"
    },
    {
     "name": "stdout",
     "output_type": "stream",
     "text": [
      "None\n"
     ]
    },
    {
     "data": {
      "text/plain": [
       "- : unit = ()\n"
      ]
     },
     "execution_count": 21,
     "metadata": {},
     "output_type": "execute_result"
    }
   ],
   "source": [
    "(* max_binding_opt *)\n",
    "let m1 = empty |> add \"one\" 1 |> add \"two\" 2 |> add \"three\" 3;;\n",
    "let p = m1 |> max_binding_opt;;\n",
    "print_opt_pair p;;\n",
    "print_opt_pair (empty |> max_binding_opt);;"
   ]
  },
  {
   "cell_type": "code",
   "execution_count": 22,
   "id": "71890dfb-034f-486a-ada0-722c907f1489",
   "metadata": {},
   "outputs": [
    {
     "data": {
      "text/plain": [
       "val m1 : int StringMap.t = <abstr>\n"
      ]
     },
     "execution_count": 22,
     "metadata": {},
     "output_type": "execute_result"
    },
    {
     "data": {
      "text/plain": [
       "val p : StringMap.key * int = (\"one\", 1)\n"
      ]
     },
     "execution_count": 22,
     "metadata": {},
     "output_type": "execute_result"
    },
    {
     "name": "stdout",
     "output_type": "stream",
     "text": [
      "(one,1)\n"
     ]
    },
    {
     "data": {
      "text/plain": [
       "- : unit = ()\n"
      ]
     },
     "execution_count": 22,
     "metadata": {},
     "output_type": "execute_result"
    }
   ],
   "source": [
    "(* choose - choose is just the alias of min_binding *)\n",
    "let m1 = empty |> add \"one\" 1 |> add \"two\" 2 |> add \"three\" 3;;\n",
    "let p = m1 |> choose;;\n",
    "print_pair p;;"
   ]
  },
  {
   "cell_type": "code",
   "execution_count": 23,
   "id": "0557d218-b297-4232-bda2-d50029df2125",
   "metadata": {},
   "outputs": [
    {
     "data": {
      "text/plain": [
       "val m1 : int StringMap.t = <abstr>\n"
      ]
     },
     "execution_count": 23,
     "metadata": {},
     "output_type": "execute_result"
    },
    {
     "data": {
      "text/plain": [
       "val p : (StringMap.key * int) option = Some (\"one\", 1)\n"
      ]
     },
     "execution_count": 23,
     "metadata": {},
     "output_type": "execute_result"
    },
    {
     "name": "stdout",
     "output_type": "stream",
     "text": [
      "(one,1)\n"
     ]
    },
    {
     "data": {
      "text/plain": [
       "- : unit = ()\n"
      ]
     },
     "execution_count": 23,
     "metadata": {},
     "output_type": "execute_result"
    },
    {
     "name": "stdout",
     "output_type": "stream",
     "text": [
      "None\n"
     ]
    },
    {
     "data": {
      "text/plain": [
       "- : unit = ()\n"
      ]
     },
     "execution_count": 23,
     "metadata": {},
     "output_type": "execute_result"
    }
   ],
   "source": [
    "(* choose_opt - choose_opt is just the alias of min_binding_opt *)\n",
    "let m1 = empty |> add \"one\" 1 |> add \"two\" 2 |> add \"three\" 3;;\n",
    "let p = m1 |> choose_opt;;\n",
    "print_opt_pair p;;\n",
    "print_opt_pair (empty |> choose_opt);;"
   ]
  },
  {
   "cell_type": "code",
   "execution_count": 24,
   "id": "93d71202-9938-4430-8440-af3a6b4c95f5",
   "metadata": {},
   "outputs": [
    {
     "data": {
      "text/plain": [
       "val m1 : int StringMap.t = <abstr>\n"
      ]
     },
     "execution_count": 24,
     "metadata": {},
     "output_type": "execute_result"
    },
    {
     "data": {
      "text/plain": [
       "val l : int StringMap.t = <abstr>\n",
       "val opt : int option = Some 2\n",
       "val r : int StringMap.t = <abstr>\n"
      ]
     },
     "execution_count": 24,
     "metadata": {},
     "output_type": "execute_result"
    },
    {
     "name": "stdout",
     "output_type": "stream",
     "text": [
      "(four -> 4) (one -> 1) (three -> 3) \n"
     ]
    },
    {
     "data": {
      "text/plain": [
       "- : unit = ()\n"
      ]
     },
     "execution_count": 24,
     "metadata": {},
     "output_type": "execute_result"
    },
    {
     "name": "stdout",
     "output_type": "stream",
     "text": [
      "\n"
     ]
    },
    {
     "data": {
      "text/plain": [
       "- : unit = ()\n"
      ]
     },
     "execution_count": 24,
     "metadata": {},
     "output_type": "execute_result"
    },
    {
     "data": {
      "text/plain": [
       "val l : int StringMap.t = <abstr>\n",
       "val opt : int option = None\n",
       "val r : int StringMap.t = <abstr>\n"
      ]
     },
     "execution_count": 24,
     "metadata": {},
     "output_type": "execute_result"
    },
    {
     "name": "stdout",
     "output_type": "stream",
     "text": [
      "\n"
     ]
    },
    {
     "data": {
      "text/plain": [
       "- : unit = ()\n"
      ]
     },
     "execution_count": 24,
     "metadata": {},
     "output_type": "execute_result"
    },
    {
     "name": "stdout",
     "output_type": "stream",
     "text": [
      "(four -> 4) (one -> 1) (three -> 3) (two -> 2) \n"
     ]
    },
    {
     "data": {
      "text/plain": [
       "- : unit = ()\n"
      ]
     },
     "execution_count": 24,
     "metadata": {},
     "output_type": "execute_result"
    }
   ],
   "source": [
    "(* split *)\n",
    "let m1 = empty |> add \"one\" 1 |> add \"two\" 2 |> add \"three\" 3 |> add \"four\" 4;;\n",
    "let (l, opt, r) = m1 |> split \"two\";;\n",
    "print l;;\n",
    "print r;;\n",
    "let (l, opt, r) = m1 |> split \"five\";;\n",
    "print l;;\n",
    "print r;;"
   ]
  },
  {
   "cell_type": "code",
   "execution_count": 25,
   "id": "cf02703c-1a67-492b-a612-0b7d296653bd",
   "metadata": {},
   "outputs": [
    {
     "data": {
      "text/plain": [
       "val m1 : int StringMap.t = <abstr>\n"
      ]
     },
     "execution_count": 25,
     "metadata": {},
     "output_type": "execute_result"
    },
    {
     "data": {
      "text/plain": [
       "- : unit = ()\n"
      ]
     },
     "execution_count": 25,
     "metadata": {},
     "output_type": "execute_result"
    }
   ],
   "source": [
    "(* find *)\n",
    "let m1 = empty |> add \"one\" 1 |> add \"two\" 2 |> add \"three\" 3 |> add \"four\" 4;;\n",
    "let _ = \n",
    "try \n",
    "  let v = m1 |> find \"one\" in\n",
    "  print_int v;\n",
    "  let v = m1 |> find \"five\" in\n",
    "  print_int v \n",
    "with Not_found -> print_string \"\\nkey not found\";;"
   ]
  },
  {
   "cell_type": "code",
   "execution_count": 26,
   "id": "f71f9743-5457-4660-b76a-c64020cccde2",
   "metadata": {},
   "outputs": [
    {
     "data": {
      "text/plain": [
       "val m1 : int StringMap.t = <abstr>\n"
      ]
     },
     "execution_count": 26,
     "metadata": {},
     "output_type": "execute_result"
    },
    {
     "data": {
      "text/plain": [
       "val r : int option = Some 1\n"
      ]
     },
     "execution_count": 26,
     "metadata": {},
     "output_type": "execute_result"
    },
    {
     "name": "stdout",
     "output_type": "stream",
     "text": [
      "1\n",
      "key not found1\n"
     ]
    },
    {
     "data": {
      "text/plain": [
       "- : unit = ()\n"
      ]
     },
     "execution_count": 26,
     "metadata": {},
     "output_type": "execute_result"
    }
   ],
   "source": [
    "(* find_opt *)\n",
    "let m1 = empty |> add \"one\" 1 |> add \"two\" 2 |> add \"three\" 3 |> add \"four\" 4;;\n",
    "let r = m1 |> find_opt \"one\" ;;\n",
    "print_int_opt r;;"
   ]
  },
  {
   "cell_type": "code",
   "execution_count": 27,
   "id": "1b194b2c-dbb7-4907-9c7a-9e819d454cb2",
   "metadata": {},
   "outputs": [
    {
     "data": {
      "text/plain": [
       "val m1 : int StringMap.t = <abstr>\n"
      ]
     },
     "execution_count": 27,
     "metadata": {},
     "output_type": "execute_result"
    },
    {
     "name": "stdout",
     "output_type": "stream",
     "text": [
      "(two,2)\n"
     ]
    },
    {
     "data": {
      "text/plain": [
       "- : unit = ()\n"
      ]
     },
     "execution_count": 27,
     "metadata": {},
     "output_type": "execute_result"
    }
   ],
   "source": [
    "(* find_first *)\n",
    "let m1 = empty |> add \"one\" 1 |> add \"two\" 2 |> add \"three\" 3 |> add \"four\" 4;;\n",
    "let _ =\n",
    "try\n",
    " let r = m1 |> find_first (fun k -> k = \"two\") in\n",
    " print_pair r;\n",
    " let r = m1 |> find_first (fun k -> k = \"five\") in\n",
    " print_pair r\n",
    "with Not_found -> print_string \"\\nKey not found\";;"
   ]
  },
  {
   "cell_type": "code",
   "execution_count": 28,
   "id": "4853305a-c35b-4b72-ab68-6048d3fee7ec",
   "metadata": {},
   "outputs": [
    {
     "data": {
      "text/plain": [
       "val m1 : int StringMap.t = <abstr>\n"
      ]
     },
     "execution_count": 28,
     "metadata": {},
     "output_type": "execute_result"
    },
    {
     "name": "stdout",
     "output_type": "stream",
     "text": [
      "\n",
      "Key not foundNone\n"
     ]
    },
    {
     "data": {
      "text/plain": [
       "- : unit = ()\n"
      ]
     },
     "execution_count": 28,
     "metadata": {},
     "output_type": "execute_result"
    },
    {
     "name": "stdout",
     "output_type": "stream",
     "text": [
      "(two,2)\n"
     ]
    },
    {
     "data": {
      "text/plain": [
       "- : unit = ()\n"
      ]
     },
     "execution_count": 28,
     "metadata": {},
     "output_type": "execute_result"
    }
   ],
   "source": [
    "(* find_first_opt *)\n",
    "let m1 = empty |> add \"one\" 1 |> add \"two\" 2 |> add \"three\" 3 |> add \"four\" 4;;\n",
    "\n",
    "let p = m1 |> find_first_opt (fun k -> k = \"five\") in\n",
    "print_opt_pair p;;\n",
    "let p = m1 |> find_first_opt (fun k -> k = \"two\") in\n",
    "print_opt_pair p;;"
   ]
  },
  {
   "cell_type": "code",
   "execution_count": 29,
   "id": "ee4595a8-e474-4bb5-9d6e-75d248547af3",
   "metadata": {},
   "outputs": [
    {
     "data": {
      "text/plain": [
       "val m1 : int StringMap.t = <abstr>\n"
      ]
     },
     "execution_count": 29,
     "metadata": {},
     "output_type": "execute_result"
    },
    {
     "name": "stdout",
     "output_type": "stream",
     "text": [
      "(two,2)\n"
     ]
    },
    {
     "data": {
      "text/plain": [
       "- : unit = ()\n"
      ]
     },
     "execution_count": 29,
     "metadata": {},
     "output_type": "execute_result"
    }
   ],
   "source": [
    "(* find_last *)\n",
    "let m1 = empty |> add \"one\" 1 |> add \"two\" 2 |> add \"three\" 3 |> add \"four\" 4;;\n",
    "let _ =\n",
    "try\n",
    " let r = m1 |> find_last (fun k -> String.length k = 3) in\n",
    " print_pair r;\n",
    " let r = m1 |> find_last (fun k -> String.length k > 10) in\n",
    " print_pair r\n",
    "with Not_found -> print_string \"\\nKey not found\";;"
   ]
  },
  {
   "cell_type": "code",
   "execution_count": 30,
   "id": "1bb08751-e50c-43e0-891a-df327f7285be",
   "metadata": {},
   "outputs": [
    {
     "data": {
      "text/plain": [
       "val m1 : int StringMap.t = <abstr>\n"
      ]
     },
     "execution_count": 30,
     "metadata": {},
     "output_type": "execute_result"
    },
    {
     "name": "stdout",
     "output_type": "stream",
     "text": [
      "\n",
      "Key not foundNone\n"
     ]
    },
    {
     "data": {
      "text/plain": [
       "- : unit = ()\n"
      ]
     },
     "execution_count": 30,
     "metadata": {},
     "output_type": "execute_result"
    },
    {
     "name": "stdout",
     "output_type": "stream",
     "text": [
      "(four,4)\n"
     ]
    },
    {
     "data": {
      "text/plain": [
       "- : unit = ()\n"
      ]
     },
     "execution_count": 30,
     "metadata": {},
     "output_type": "execute_result"
    }
   ],
   "source": [
    "(* find_last_opt *)\n",
    "let m1 = empty |> add \"one\" 1 |> add \"two\" 2 |> add \"three\" 3 |> add \"four\" 4;;\n",
    "let p = m1 |> find_last_opt (fun k -> String.length k > 10) in\n",
    "print_opt_pair p;;\n",
    "let p = m1 |> find_last_opt (fun k -> String.length k > 3) in\n",
    "print_opt_pair p;;"
   ]
  },
  {
   "cell_type": "code",
   "execution_count": 31,
   "id": "c0b52073-cd2a-438d-8bfb-8e78b255f171",
   "metadata": {},
   "outputs": [
    {
     "data": {
      "text/plain": [
       "val m1 : int StringMap.t = <abstr>\n"
      ]
     },
     "execution_count": 31,
     "metadata": {},
     "output_type": "execute_result"
    },
    {
     "data": {
      "text/plain": [
       "val m : int StringMap.t = <abstr>\n"
      ]
     },
     "execution_count": 31,
     "metadata": {},
     "output_type": "execute_result"
    },
    {
     "name": "stdout",
     "output_type": "stream",
     "text": [
      "(four -> 16) (one -> 1) (three -> 9) (two -> 4) \n"
     ]
    },
    {
     "data": {
      "text/plain": [
       "- : unit = ()\n"
      ]
     },
     "execution_count": 31,
     "metadata": {},
     "output_type": "execute_result"
    }
   ],
   "source": [
    "(* map *)\n",
    "let m1 = empty |> add \"one\" 1 |> add \"two\" 2 |> add \"three\" 3 |> add \"four\" 4;;\n",
    "let m = m1 |> map (fun x -> x * x);;\n",
    "print m;;"
   ]
  },
  {
   "cell_type": "code",
   "execution_count": 32,
   "id": "84acb0a4-0a05-43b3-ac92-f8f2722d7cb7",
   "metadata": {},
   "outputs": [
    {
     "data": {
      "text/plain": [
       "val m1 : int StringMap.t = <abstr>\n"
      ]
     },
     "execution_count": 32,
     "metadata": {},
     "output_type": "execute_result"
    },
    {
     "data": {
      "text/plain": [
       "val m : int StringMap.t = <abstr>\n"
      ]
     },
     "execution_count": 32,
     "metadata": {},
     "output_type": "execute_result"
    },
    {
     "name": "stdout",
     "output_type": "stream",
     "text": [
      "(four -> 4) (one -> 101) (three -> 3) (two -> 102) \n"
     ]
    },
    {
     "data": {
      "text/plain": [
       "- : unit = ()\n"
      ]
     },
     "execution_count": 32,
     "metadata": {},
     "output_type": "execute_result"
    }
   ],
   "source": [
    "(* mapi *)\n",
    "let m1 = empty |> add \"one\" 1 |> add \"two\" 2 |> add \"three\" 3 |> add \"four\" 4;;\n",
    "let m = m1 |> mapi (fun k v -> if String.length k = 3 then v + 100 else v);;\n",
    "print m;;"
   ]
  },
  {
   "cell_type": "code",
   "execution_count": 33,
   "id": "2cab546e-539e-44c6-9a38-8140c99bb26d",
   "metadata": {},
   "outputs": [
    {
     "data": {
      "text/plain": [
       "val m1 : int StringMap.t = <abstr>\n"
      ]
     },
     "execution_count": 33,
     "metadata": {},
     "output_type": "execute_result"
    },
    {
     "data": {
      "text/plain": [
       "val seq : (StringMap.key * int) Seq.t = <fun>\n"
      ]
     },
     "execution_count": 33,
     "metadata": {},
     "output_type": "execute_result"
    },
    {
     "name": "stdout",
     "output_type": "stream",
     "text": [
      "(four,4)\n",
      "(one,1)\n",
      "(three,3)\n",
      "(two,2)\n"
     ]
    },
    {
     "data": {
      "text/plain": [
       "- : unit = ()\n"
      ]
     },
     "execution_count": 33,
     "metadata": {},
     "output_type": "execute_result"
    }
   ],
   "source": [
    "(* to_seq *)\n",
    "let m1 = empty |> add \"one\" 1 |> add \"two\" 2 |> add \"three\" 3 |> add \"four\" 4;;\n",
    "let seq = m1 |> to_seq;;\n",
    "print_seq seq;;"
   ]
  },
  {
   "cell_type": "code",
   "execution_count": 34,
   "id": "c90977d1-6d4c-4f91-987c-ea885f60a8a9",
   "metadata": {},
   "outputs": [
    {
     "data": {
      "text/plain": [
       "val m1 : int StringMap.t = <abstr>\n"
      ]
     },
     "execution_count": 34,
     "metadata": {},
     "output_type": "execute_result"
    },
    {
     "data": {
      "text/plain": [
       "val seq : (StringMap.key * int) Seq.t = <fun>\n"
      ]
     },
     "execution_count": 34,
     "metadata": {},
     "output_type": "execute_result"
    },
    {
     "name": "stdout",
     "output_type": "stream",
     "text": [
      "(two,2)\n",
      "(three,3)\n",
      "(one,1)\n",
      "(four,4)\n"
     ]
    },
    {
     "data": {
      "text/plain": [
       "- : unit = ()\n"
      ]
     },
     "execution_count": 34,
     "metadata": {},
     "output_type": "execute_result"
    }
   ],
   "source": [
    "(* to_rev_seq *)\n",
    "let m1 = empty |> add \"one\" 1 |> add \"two\" 2 |> add \"three\" 3 |> add \"four\" 4;;\n",
    "let seq = m1 |> to_rev_seq;;\n",
    "print_seq seq;;"
   ]
  },
  {
   "cell_type": "code",
   "execution_count": 35,
   "id": "cb294d9d-bf12-4f52-b9f3-0394bd13c070",
   "metadata": {},
   "outputs": [
    {
     "data": {
      "text/plain": [
       "val m1 : int StringMap.t = <abstr>\n"
      ]
     },
     "execution_count": 35,
     "metadata": {},
     "output_type": "execute_result"
    },
    {
     "data": {
      "text/plain": [
       "val seq : (StringMap.key * int) Seq.t = <fun>\n"
      ]
     },
     "execution_count": 35,
     "metadata": {},
     "output_type": "execute_result"
    },
    {
     "name": "stdout",
     "output_type": "stream",
     "text": [
      "(one,1)\n",
      "(three,3)\n",
      "(two,2)\n"
     ]
    },
    {
     "data": {
      "text/plain": [
       "- : unit = ()\n"
      ]
     },
     "execution_count": 35,
     "metadata": {},
     "output_type": "execute_result"
    }
   ],
   "source": [
    "(* to_seq_from *)\n",
    "let m1 = empty |> add \"one\" 1 |> add \"two\" 2 |> add \"three\" 3 |> add \"four\" 4;;\n",
    "let seq = m1 |> to_seq_from \"one\";;\n",
    "print_seq seq;;"
   ]
  },
  {
   "cell_type": "code",
   "execution_count": 36,
   "id": "9a57bfa3-b021-47d2-9027-423044ed7622",
   "metadata": {},
   "outputs": [
    {
     "data": {
      "text/plain": [
       "val m1 : int StringMap.t = <abstr>\n"
      ]
     },
     "execution_count": 36,
     "metadata": {},
     "output_type": "execute_result"
    },
    {
     "data": {
      "text/plain": [
       "val m : int StringMap.t = <abstr>\n"
      ]
     },
     "execution_count": 36,
     "metadata": {},
     "output_type": "execute_result"
    },
    {
     "name": "stdout",
     "output_type": "stream",
     "text": [
      "(five -> 5) (four -> 4) (one -> 1) (three -> 3) (two -> 2) \n"
     ]
    },
    {
     "data": {
      "text/plain": [
       "- : unit = ()\n"
      ]
     },
     "execution_count": 36,
     "metadata": {},
     "output_type": "execute_result"
    }
   ],
   "source": [
    "(* add_seq *)\n",
    "let m1 = empty |> add \"one\" 1 |> add \"two\" 2 |> add \"three\" 3 |> add \"four\" 4;;\n",
    "let m = m1 |> add_seq ([(\"five\", 5)] |> List.to_seq);;\n",
    "print m;;"
   ]
  },
  {
   "cell_type": "code",
   "execution_count": 37,
   "id": "037363db-b77a-4aa9-9ff7-d6e9afd79473",
   "metadata": {},
   "outputs": [
    {
     "data": {
      "text/plain": [
       "val m : int StringMap.t = <abstr>\n"
      ]
     },
     "execution_count": 37,
     "metadata": {},
     "output_type": "execute_result"
    },
    {
     "name": "stdout",
     "output_type": "stream",
     "text": [
      "(one -> 1) \n"
     ]
    },
    {
     "data": {
      "text/plain": [
       "- : unit = ()\n"
      ]
     },
     "execution_count": 37,
     "metadata": {},
     "output_type": "execute_result"
    }
   ],
   "source": [
    "let m = [(\"one\", 1)] |> List.to_seq |> of_seq;;\n",
    "print m;;"
   ]
  },
  {
   "cell_type": "code",
   "execution_count": null,
   "id": "47e45a8c-98ef-43ff-b23f-4c822bb2b157",
   "metadata": {},
   "outputs": [],
   "source": []
  }
 ],
 "metadata": {
  "kernelspec": {
   "display_name": "OCaml 4.12.0",
   "language": "OCaml",
   "name": "ocaml-jupyter"
  },
  "language_info": {
   "codemirror_mode": "text/x-ocaml",
   "file_extension": ".ml",
   "mimetype": "text/x-ocaml",
   "name": "OCaml",
   "nbconverter_exporter": null,
   "pygments_lexer": "OCaml",
   "version": "4.12.0"
  }
 },
 "nbformat": 4,
 "nbformat_minor": 5
}
