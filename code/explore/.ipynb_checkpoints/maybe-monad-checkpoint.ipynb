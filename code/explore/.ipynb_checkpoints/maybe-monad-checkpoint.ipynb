{
 "cells": [
  {
   "cell_type": "code",
   "execution_count": 7,
   "id": "48e6cf85-5238-4a99-980f-716fb5fa09cf",
   "metadata": {},
   "outputs": [
    {
     "data": {
      "text/plain": [
       "module type MaybeMonad =\n",
       "  sig\n",
       "    type 'a t\n",
       "    val return : 'a -> 'a t\n",
       "    val bind : 'a t -> ('a -> 'b t) -> 'b t\n",
       "  end\n"
      ]
     },
     "execution_count": 7,
     "metadata": {},
     "output_type": "execute_result"
    },
    {
     "data": {
      "text/plain": [
       "module Maybe :\n",
       "  sig\n",
       "    type 'a t = 'a option\n",
       "    val return : 'a -> 'a t\n",
       "    val bind : 'a t -> ('a -> 'b t) -> 'b t\n",
       "  end\n"
      ]
     },
     "execution_count": 7,
     "metadata": {},
     "output_type": "execute_result"
    },
    {
     "data": {
      "text/plain": [
       "module Monad_infix :\n",
       "  sig\n",
       "    val ( >>= ) : 'a Maybe.t -> ('a -> 'b Maybe.t) -> 'b Maybe.t\n",
       "    val ( let* ) : 'a Maybe.t -> ('a -> 'b Maybe.t) -> 'b Maybe.t\n",
       "  end\n"
      ]
     },
     "execution_count": 7,
     "metadata": {},
     "output_type": "execute_result"
    },
    {
     "data": {
      "text/plain": [
       "val maybe : (module MaybeMonad) = <module>\n"
      ]
     },
     "execution_count": 7,
     "metadata": {},
     "output_type": "execute_result"
    },
    {
     "data": {
      "text/plain": [
       "val add : int option -> int option -> int Maybe.t = <fun>\n"
      ]
     },
     "execution_count": 7,
     "metadata": {},
     "output_type": "execute_result"
    },
    {
     "data": {
      "text/plain": [
       "val add2 : float option -> float option -> float Maybe.t = <fun>\n"
      ]
     },
     "execution_count": 7,
     "metadata": {},
     "output_type": "execute_result"
    },
    {
     "data": {
      "text/plain": [
       "- : int Maybe.t = Some 3\n"
      ]
     },
     "execution_count": 7,
     "metadata": {},
     "output_type": "execute_result"
    },
    {
     "data": {
      "text/plain": [
       "- : float Maybe.t = Some 30.\n"
      ]
     },
     "execution_count": 7,
     "metadata": {},
     "output_type": "execute_result"
    }
   ],
   "source": [
    "module type MaybeMonad = sig\n",
    "  type 'a t\n",
    "\n",
    "  val return : 'a -> 'a t\n",
    "\n",
    "  val bind : 'a t -> ('a -> 'b t) -> 'b t\n",
    "end\n",
    "\n",
    "module Maybe : MaybeMonad with type 'a t = 'a option = struct\n",
    "  type 'a t = 'a option\n",
    "\n",
    "  let return a = Some a\n",
    "\n",
    "  let bind opt f = match opt with None -> None | Some x -> f x\n",
    "end\n",
    "\n",
    "module Monad_infix = struct\n",
    "  let ( >>= ) = Maybe.bind\n",
    "\n",
    "  let ( let* ) = Maybe.bind\n",
    "end\n",
    "\n",
    "let maybe = (module Maybe : MaybeMonad)\n",
    "\n",
    "open Monad_infix\n",
    "\n",
    "let add (x : int option) (y : int option) =\n",
    "  x >>= fun a ->\n",
    "  y >>= fun b -> Some (a + b)\n",
    "\n",
    "let add2 (x : float option) (y : float option) =\n",
    "  let* a = x in\n",
    "  let* b = y in\n",
    "  Some (a +. b) ;;\n",
    "\n",
    "add (Some 1) (Some 2);;\n",
    "add2 (Some 10.) (Some 20.);;"
   ]
  }
 ],
 "metadata": {
  "kernelspec": {
   "display_name": "OCaml 4.12.0",
   "language": "OCaml",
   "name": "ocaml-jupyter"
  },
  "language_info": {
   "codemirror_mode": "text/x-ocaml",
   "file_extension": ".ml",
   "mimetype": "text/x-ocaml",
   "name": "OCaml",
   "nbconverter_exporter": null,
   "pygments_lexer": "OCaml",
   "version": "4.12.0"
  }
 },
 "nbformat": 4,
 "nbformat_minor": 5
}
