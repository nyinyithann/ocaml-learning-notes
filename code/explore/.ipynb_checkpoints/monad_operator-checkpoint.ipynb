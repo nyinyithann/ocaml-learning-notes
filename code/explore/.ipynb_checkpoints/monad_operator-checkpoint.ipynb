{
 "cells": [
  {
   "cell_type": "code",
   "execution_count": 36,
   "id": "3c635e9e-e21f-4c22-a62a-519ba249cdb0",
   "metadata": {},
   "outputs": [
    {
     "data": {
      "text/plain": [
       "val ( let* ) :\n",
       "  'a Base.Option.t -> ('a -> 'b Base.Option.t) -> 'b Base.Option.t = <fun>\n"
      ]
     },
     "execution_count": 36,
     "metadata": {},
     "output_type": "execute_result"
    },
    {
     "data": {
      "text/plain": [
       "val return : 'a -> 'a Base.Option.t = <fun>\n"
      ]
     },
     "execution_count": 36,
     "metadata": {},
     "output_type": "execute_result"
    },
    {
     "data": {
      "text/plain": [
       "val sum_hds : unit -> Base.Int.t Base.Option.t = <fun>\n"
      ]
     },
     "execution_count": 36,
     "metadata": {},
     "output_type": "execute_result"
    },
    {
     "data": {
      "text/plain": [
       "- : Base.Int.t Base.Option.t = Base.Option.None\n"
      ]
     },
     "execution_count": 36,
     "metadata": {},
     "output_type": "execute_result"
    }
   ],
   "source": [
    "#require \"Base\" ;;\n",
    "open Base;;\n",
    "\n",
    "let (let*) o f = Option.bind o ~f;;\n",
    "let return = Option.return;;\n",
    "let sum_hds () =\n",
    "    let* x = List.hd [] in\n",
    "    let* y = List.hd [4;5;6] in\n",
    "    return (x + y);;\n",
    "sum_hds()"
   ]
  },
  {
   "cell_type": "code",
   "execution_count": 32,
   "id": "5363ae79-30de-436c-b14a-f5be9688e3cd",
   "metadata": {},
   "outputs": [
    {
     "data": {
      "text/plain": [
       "- : 'a Base.Option.t -> f:('a -> 'b Base.Option.t) -> 'b Base.Option.t =\n",
       "<fun>\n"
      ]
     },
     "execution_count": 32,
     "metadata": {},
     "output_type": "execute_result"
    },
    {
     "data": {
      "text/plain": [
       "- : 'a -> 'a Base.Option.t = <fun>\n"
      ]
     },
     "execution_count": 32,
     "metadata": {},
     "output_type": "execute_result"
    }
   ],
   "source": [
    "Option.bind;;\n",
    "Option.return;;"
   ]
  },
  {
   "cell_type": "code",
   "execution_count": null,
   "id": "ca554af7-1067-404b-a4e7-22d2aac62424",
   "metadata": {},
   "outputs": [],
   "source": []
  }
 ],
 "metadata": {
  "kernelspec": {
   "display_name": "OCaml 4.12.0",
   "language": "OCaml",
   "name": "ocaml-jupyter"
  },
  "language_info": {
   "codemirror_mode": "text/x-ocaml",
   "file_extension": ".ml",
   "mimetype": "text/x-ocaml",
   "name": "OCaml",
   "nbconverter_exporter": null,
   "pygments_lexer": "OCaml",
   "version": "4.12.0"
  }
 },
 "nbformat": 4,
 "nbformat_minor": 5
}
