{
 "cells": [
  {
   "cell_type": "code",
   "execution_count": 57,
   "id": "4359ffd2-fc3d-48fc-a400-2d93d6d79d82",
   "metadata": {},
   "outputs": [
    {
     "data": {
      "text/plain": [
       "type ('a, 'b) result = Ok of 'a | Err of 'b\n"
      ]
     },
     "execution_count": 57,
     "metadata": {},
     "output_type": "execute_result"
    },
    {
     "data": {
      "text/plain": [
       "type request = { name : string; email : string; }\n"
      ]
     },
     "execution_count": 57,
     "metadata": {},
     "output_type": "execute_result"
    },
    {
     "data": {
      "text/plain": [
       "val validateInput : request -> (request, string) result = <fun>\n"
      ]
     },
     "execution_count": 57,
     "metadata": {},
     "output_type": "execute_result"
    },
    {
     "data": {
      "text/plain": [
       "val validateName : request -> (request, string) result = <fun>\n"
      ]
     },
     "execution_count": 57,
     "metadata": {},
     "output_type": "execute_result"
    },
    {
     "data": {
      "text/plain": [
       "val validateNameLength : request -> (request, string) result = <fun>\n"
      ]
     },
     "execution_count": 57,
     "metadata": {},
     "output_type": "execute_result"
    },
    {
     "data": {
      "text/plain": [
       "val validateEmail : request -> (request, string) result = <fun>\n"
      ]
     },
     "execution_count": 57,
     "metadata": {},
     "output_type": "execute_result"
    },
    {
     "data": {
      "text/plain": [
       "val bind : ('a -> ('b, 'c) result) -> ('a, 'c) result -> ('b, 'c) result =\n",
       "  <fun>\n"
      ]
     },
     "execution_count": 57,
     "metadata": {},
     "output_type": "execute_result"
    }
   ],
   "source": [
    "type ('a, 'b) result = Ok of 'a | Err of 'b\n",
    "\n",
    "type request = { name : string; email : string }\n",
    "\n",
    "let validateInput input =\n",
    "    if input.name = \"\" then Err \"Name must not be blank\"\n",
    "    else if input.email = \"\" then Err \"Email must not be blank\"\n",
    "    else Ok input;;\n",
    "\n",
    "let validateName input =\n",
    "    if input.name = \"\" then Err \"Name is blank\"\n",
    "    else Ok input\n",
    "    \n",
    "let validateNameLength input =\n",
    "    if String.length input.name > 20 then Err \"Name is too long\"\n",
    "    else Ok input\n",
    "    \n",
    "let validateEmail input =\n",
    "    if input.email = \"\" then Err \"Email is blank\"\n",
    "    else Ok input\n",
    "    \n",
    "let bind f input =\n",
    "    match input with\n",
    "    | Ok x -> f x\n",
    "    | Err e -> Err e;;"
   ]
  },
  {
   "cell_type": "code",
   "execution_count": 58,
   "id": "4f900801-e71e-430a-9462-db7124b75cfd",
   "metadata": {},
   "outputs": [
    {
     "data": {
      "text/plain": [
       "val badReq : request = {name = \"\"; email = \"\"}\n"
      ]
     },
     "execution_count": 58,
     "metadata": {},
     "output_type": "execute_result"
    },
    {
     "data": {
      "text/plain": [
       "val goodReq : request = {name = \"Foo\"; email = \"foo@bar.COM \"}\n"
      ]
     },
     "execution_count": 58,
     "metadata": {},
     "output_type": "execute_result"
    },
    {
     "data": {
      "text/plain": [
       "val ( >> ) : ('a -> 'b) -> ('b -> 'c) -> 'a -> 'c = <fun>\n"
      ]
     },
     "execution_count": 58,
     "metadata": {},
     "output_type": "execute_result"
    },
    {
     "data": {
      "text/plain": [
       "val validateReq : request -> (request, string) result = <fun>\n"
      ]
     },
     "execution_count": 58,
     "metadata": {},
     "output_type": "execute_result"
    },
    {
     "data": {
      "text/plain": [
       "- : (request, string) result = Err \"Name is blank\"\n"
      ]
     },
     "execution_count": 58,
     "metadata": {},
     "output_type": "execute_result"
    },
    {
     "data": {
      "text/plain": [
       "val ( >>= ) : ('a, 'b) result -> ('a -> ('c, 'b) result) -> ('c, 'b) result =\n",
       "  <fun>\n"
      ]
     },
     "execution_count": 58,
     "metadata": {},
     "output_type": "execute_result"
    },
    {
     "data": {
      "text/plain": [
       "- : (request, string) result = Err \"Name is blank\"\n"
      ]
     },
     "execution_count": 58,
     "metadata": {},
     "output_type": "execute_result"
    }
   ],
   "source": [
    "let badReq = { name = \"\"; email = \"\"};;\n",
    "let goodReq = { name = \"Foo\"; email = \"foo@bar.COM \" };;\n",
    "let (>>) f g x = g (f x);;\n",
    "\n",
    "let validateReq = validateName >> bind validateNameLength >> bind validateEmail;;\n",
    "validateReq badReq;;\n",
    "\n",
    "let (>>=) x f = bind f x;;\n",
    "        \n",
    "badReq \n",
    "|> validateName\n",
    ">>= validateNameLength ;;"
   ]
  },
  {
   "cell_type": "code",
   "execution_count": 59,
   "id": "cb0e6fc2-9a9e-4d89-afbb-f7630fb68ec8",
   "metadata": {},
   "outputs": [
    {
     "data": {
      "text/plain": [
       "val ( >==> ) :\n",
       "  ('a -> ('b, 'c) result) -> ('b -> ('d, 'c) result) -> 'a -> ('d, 'c) result =\n",
       "  <fun>\n"
      ]
     },
     "execution_count": 59,
     "metadata": {},
     "output_type": "execute_result"
    },
    {
     "data": {
      "text/plain": [
       "val validateReq : request -> (request, string) result = <fun>\n"
      ]
     },
     "execution_count": 59,
     "metadata": {},
     "output_type": "execute_result"
    },
    {
     "data": {
      "text/plain": [
       "- : (request, string) result = Err \"Name is blank\"\n"
      ]
     },
     "execution_count": 59,
     "metadata": {},
     "output_type": "execute_result"
    },
    {
     "data": {
      "text/plain": [
       "val ( =>>= ) :\n",
       "  ('a -> ('b, 'c) result) -> ('b -> ('d, 'c) result) -> 'a -> ('d, 'c) result =\n",
       "  <fun>\n"
      ]
     },
     "execution_count": 59,
     "metadata": {},
     "output_type": "execute_result"
    },
    {
     "data": {
      "text/plain": [
       "val validateReq : request -> (request, string) result = <fun>\n"
      ]
     },
     "execution_count": 59,
     "metadata": {},
     "output_type": "execute_result"
    },
    {
     "data": {
      "text/plain": [
       "- : (request, string) result = Err \"Name is blank\"\n"
      ]
     },
     "execution_count": 59,
     "metadata": {},
     "output_type": "execute_result"
    }
   ],
   "source": [
    "let (>==>) f1 f2 x =\n",
    " match f1 x with\n",
    " | Ok o -> f2 o\n",
    " | Err e -> Err e;;\n",
    " \n",
    " let validateReq =  validateName >==> validateNameLength >==>  validateEmail;;\n",
    " validateReq badReq;;\n",
    " \n",
    "let (=>>= ) f1 f2 x =\n",
    "    f1 x >>= f2 ;;\n",
    "    \n",
    "let validateReq =  validateName =>>= validateNameLength =>>=  validateEmail;;\n",
    " validateReq badReq;;"
   ]
  },
  {
   "cell_type": "code",
   "execution_count": 61,
   "id": "1f7a946b-ae07-48e2-90c3-056ee64b06f5",
   "metadata": {},
   "outputs": [
    {
     "data": {
      "text/plain": [
       "val cannonicalizeEmail : request -> request = <fun>\n"
      ]
     },
     "execution_count": 61,
     "metadata": {},
     "output_type": "execute_result"
    },
    {
     "data": {
      "text/plain": [
       "val switch : ('a -> 'b) -> 'a -> ('b, 'c) result = <fun>\n"
      ]
     },
     "execution_count": 61,
     "metadata": {},
     "output_type": "execute_result"
    },
    {
     "data": {
      "text/plain": [
       "val map : ('a -> 'b) -> ('a, 'c) result -> ('b, 'c) result = <fun>\n"
      ]
     },
     "execution_count": 61,
     "metadata": {},
     "output_type": "execute_result"
    },
    {
     "data": {
      "text/plain": [
       "val tee : ('a -> 'b) -> 'a -> 'a = <fun>\n"
      ]
     },
     "execution_count": 61,
     "metadata": {},
     "output_type": "execute_result"
    },
    {
     "data": {
      "text/plain": [
       "- : int = 10\n"
      ]
     },
     "execution_count": 61,
     "metadata": {},
     "output_type": "execute_result"
    },
    {
     "data": {
      "text/plain": [
       "val updateDB : 'a -> unit = <fun>\n"
      ]
     },
     "execution_count": 61,
     "metadata": {},
     "output_type": "execute_result"
    },
    {
     "data": {
      "text/plain": [
       "val tryCatch : ('a -> 'b) -> 'a -> ('b, string) result = <fun>\n"
      ]
     },
     "execution_count": 61,
     "metadata": {},
     "output_type": "execute_result"
    },
    {
     "data": {
      "text/plain": [
       "val doubleMap :\n",
       "  ('a -> 'b) -> ('c -> 'd) -> ('a, 'c) result -> ('b, 'd) result = <fun>\n"
      ]
     },
     "execution_count": 61,
     "metadata": {},
     "output_type": "execute_result"
    },
    {
     "data": {
      "text/plain": [
       "val log : ('a, string) result -> (unit, unit) result = <fun>\n"
      ]
     },
     "execution_count": 61,
     "metadata": {},
     "output_type": "execute_result"
    },
    {
     "data": {
      "text/plain": [
       "val ok : 'a -> ('a, 'b) result = <fun>\n"
      ]
     },
     "execution_count": 61,
     "metadata": {},
     "output_type": "execute_result"
    },
    {
     "data": {
      "text/plain": [
       "val err : 'a -> ('b, 'a) result = <fun>\n"
      ]
     },
     "execution_count": 61,
     "metadata": {},
     "output_type": "execute_result"
    },
    {
     "data": {
      "text/plain": [
       "val combine :\n",
       "  ('a -> 'b -> 'c) ->\n",
       "  ('d -> 'd -> 'd) ->\n",
       "  ('e -> ('a, 'd) result) -> ('e -> ('b, 'd) result) -> 'e -> ('c, 'd) result =\n",
       "  <fun>\n"
      ]
     },
     "execution_count": 61,
     "metadata": {},
     "output_type": "execute_result"
    },
    {
     "data": {
      "text/plain": [
       "val ( <&> ) :\n",
       "  ('a -> ('b, string) result) ->\n",
       "  ('a -> ('c, string) result) -> 'a -> ('b, string) result = <fun>\n"
      ]
     },
     "execution_count": 61,
     "metadata": {},
     "output_type": "execute_result"
    },
    {
     "data": {
      "text/plain": [
       "val useCase : request -> (unit, unit) result = <fun>\n"
      ]
     },
     "execution_count": 61,
     "metadata": {},
     "output_type": "execute_result"
    },
    {
     "data": {
      "text/plain": [
       "- : (unit, unit) result = Ok ()\n"
      ]
     },
     "execution_count": 61,
     "metadata": {},
     "output_type": "execute_result"
    },
    {
     "data": {
      "text/plain": [
       "- : (unit, unit) result = Err ()\n"
      ]
     },
     "execution_count": 61,
     "metadata": {},
     "output_type": "execute_result"
    },
    {
     "name": "stdout",
     "output_type": "stream",
     "text": [
      "ok\n",
      "Name is blank:Email is blank\n"
     ]
    },
    {
     "data": {
      "text/plain": [
       "- : unit = ()\n"
      ]
     },
     "execution_count": 61,
     "metadata": {},
     "output_type": "execute_result"
    },
    {
     "data": {
      "text/plain": [
       "- : request -> (request, string) result = <fun>\n"
      ]
     },
     "execution_count": 61,
     "metadata": {},
     "output_type": "execute_result"
    }
   ],
   "source": [
    "let cannonicalizeEmail input =\n",
    "    {input with email = String.((trim >> lowercase_ascii) input.email) };;\n",
    "    \n",
    "let switch f x = Ok (f x);;\n",
    "\n",
    "let map f x =\n",
    "    match x with\n",
    "    | Ok o -> Ok (f o)\n",
    "    | Err e -> Err e ;;\n",
    "\n",
    "let tee f x =\n",
    "    f x |> ignore;\n",
    "    x ;;\n",
    "    \n",
    "tee (fun x -> x + 1) 10;;\n",
    "\n",
    "let updateDB x = ();;\n",
    "\n",
    "let tryCatch f x =\n",
    "    try \n",
    "        Ok (f x)\n",
    "    with\n",
    "    | _ -> Err \"Failed\";;\n",
    "\n",
    "let doubleMap okF errF input =\n",
    "    match input with\n",
    "    | Ok o -> Ok (okF o)\n",
    "    | Err e -> Err (errF e) ;;\n",
    "\n",
    "let log input =\n",
    "    let ok x = print_string \"ok\\n\" in\n",
    "    let err x = print_string x in\n",
    "    doubleMap ok err input;;\n",
    "\n",
    "let ok x = Ok x;;\n",
    "let err x = Err x;;\n",
    "\n",
    "let combine okF errF f1 f2 x =\n",
    "    match f1 x, f2 x with\n",
    "    | Ok x1, Ok x2 -> Ok (okF x1 x2)\n",
    "    | Ok _, Err e -> Err e\n",
    "    | Err e, Ok _ -> Err e\n",
    "    | Err e1, Err e2 -> Err (errF e1 e2);;\n",
    "\n",
    "let (<&>) f1 f2 =\n",
    "    let ok r1 r2 = r1 in\n",
    "    let err e1 e2 = e1 ^ \":\" ^ e2 in\n",
    "    combine ok err f1 f2;;\n",
    "\n",
    "let useCase =  \n",
    "     validateName \n",
    "     <&> validateNameLength \n",
    "     <&> validateEmail\n",
    "     <&> switch cannonicalizeEmail (* or >> map cannonicalizeEmail *)\n",
    "     <&> tryCatch (tee updateDB)\n",
    "     >> log;;\n",
    "     \n",
    "useCase goodReq;;\n",
    "useCase badReq;;\n",
    "print_newline();;\n",
    "\n",
    "validateName \n",
    "     <&> validateNameLength ;;"
   ]
  },
  {
   "cell_type": "code",
   "execution_count": null,
   "id": "091475c3-e7da-45d1-abf6-5cff7400e027",
   "metadata": {},
   "outputs": [],
   "source": []
  }
 ],
 "metadata": {
  "kernelspec": {
   "display_name": "OCaml 4.12.0",
   "language": "OCaml",
   "name": "ocaml-jupyter"
  },
  "language_info": {
   "codemirror_mode": "text/x-ocaml",
   "file_extension": ".ml",
   "mimetype": "text/x-ocaml",
   "name": "OCaml",
   "nbconverter_exporter": null,
   "pygments_lexer": "OCaml",
   "version": "4.12.0"
  }
 },
 "nbformat": 4,
 "nbformat_minor": 5
}
