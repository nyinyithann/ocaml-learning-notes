{
 "cells": [
  {
   "cell_type": "code",
   "execution_count": 30,
   "id": "16583c8b-69dd-408b-903f-b25715e8051b",
   "metadata": {},
   "outputs": [
    {
     "data": {
      "text/plain": [
       "module Option :\n",
       "  sig\n",
       "    type 'a t = Nothing | Just of 'a\n",
       "    val map : 'a option -> f:('a -> 'b) -> 'b option\n",
       "    val product : 'a option -> 'b option -> ('a * 'b) option\n",
       "    val apply : f:('a -> 'b) option -> 'a option -> 'b option\n",
       "    val return : 'a -> 'a option\n",
       "    val bind : 'a option -> f:('a -> 'b option) -> 'b option\n",
       "    module Syntax :\n",
       "      sig\n",
       "        val ( let+ ) : 'a option -> ('a -> 'b) -> 'b option\n",
       "        val ( and+ ) : 'a option -> 'b option -> ('a * 'b) option\n",
       "        val ( let* ) : 'a option -> ('a -> 'b option) -> 'b option\n",
       "        val ( and* ) : 'a option -> 'b option -> ('a * 'b) option\n",
       "      end\n",
       "  end\n"
      ]
     },
     "execution_count": 30,
     "metadata": {},
     "output_type": "execute_result"
    }
   ],
   "source": [
    "module Option = struct\n",
    "    type 'a t = Nothing | Just of 'a\n",
    "    \n",
    "    let map x ~f = \n",
    "        match x with\n",
    "        | None -> None\n",
    "        | Some x -> Some (f x)\n",
    "        \n",
    "    let product x y =\n",
    "        match x, y with\n",
    "        | Some x, Some y -> Some (x, y)\n",
    "        | _ -> None\n",
    "    \n",
    "    let apply ~f x =\n",
    "        match f, x with\n",
    "        | Some fn, Some xx -> Some (fn xx)\n",
    "        | _ -> None\n",
    "        \n",
    "    let return x = Some x\n",
    "    \n",
    "    let bind x ~f =\n",
    "        match x with\n",
    "        | None -> None\n",
    "        | Some x -> f x\n",
    "      \n",
    "    module Syntax = struct\n",
    "        let (let+) x f = map x f\n",
    "        let (and+) x y = product x y\n",
    "        \n",
    "        let (let*) x f = bind x ~f\n",
    "        let (and*) x y = product x y\n",
    "    end\n",
    "end"
   ]
  },
  {
   "cell_type": "code",
   "execution_count": 34,
   "id": "a4a71a24-a0fd-48db-8cc0-bea31bed991b",
   "metadata": {},
   "outputs": [
    {
     "data": {
      "text/plain": [
       "val head : 'a list -> 'a option = <fun>\n"
      ]
     },
     "execution_count": 34,
     "metadata": {},
     "output_type": "execute_result"
    },
    {
     "data": {
      "text/plain": [
       "val odds : int list = [1; 3; 5]\n"
      ]
     },
     "execution_count": 34,
     "metadata": {},
     "output_type": "execute_result"
    },
    {
     "data": {
      "text/plain": [
       "val evens : int list = [2; 4; 6]\n"
      ]
     },
     "execution_count": 34,
     "metadata": {},
     "output_type": "execute_result"
    },
    {
     "data": {
      "text/plain": [
       "val add_heads : int list -> int list -> int option = <fun>\n"
      ]
     },
     "execution_count": 34,
     "metadata": {},
     "output_type": "execute_result"
    },
    {
     "data": {
      "text/plain": [
       "- : int option = Some 5\n"
      ]
     },
     "execution_count": 34,
     "metadata": {},
     "output_type": "execute_result"
    },
    {
     "data": {
      "text/plain": [
       "val add_heads_monad : int list -> int list -> int option = <fun>\n"
      ]
     },
     "execution_count": 34,
     "metadata": {},
     "output_type": "execute_result"
    },
    {
     "data": {
      "text/plain": [
       "- : int option = Some 4\n"
      ]
     },
     "execution_count": 34,
     "metadata": {},
     "output_type": "execute_result"
    }
   ],
   "source": [
    "open Option\n",
    "open Option.Syntax\n",
    "let head = function [] -> None | x :: _ -> Some x \n",
    "let odds = [1;3;5]\n",
    "let evens = [2;4;6]\n",
    "\n",
    "let add_heads xs ys =\n",
    "    let+ x = head xs\n",
    "    and+ y = head ys \n",
    "    and+ z = head ys in\n",
    "    x + y + z;;\n",
    "\n",
    "add_heads odds evens;;\n",
    "\n",
    "let add_heads_monad xs ys =\n",
    "    let* x = head xs\n",
    "    and* y = head xs\n",
    "    and* z = head ys in\n",
    "    return (x + y + z);;\n",
    "\n",
    "add_heads_monad odds evens;;"
   ]
  },
  {
   "cell_type": "code",
   "execution_count": null,
   "id": "4b407b18-78ee-45b7-b669-64a0e9b921ec",
   "metadata": {},
   "outputs": [],
   "source": [
    "module Maybe : sig \n",
    "    type +'a t = Nothing | Just of 'a\n",
    "    val nothing : 'a t\n",
    "    val just : 'a -> 'a t\n",
    "    val is_nothing : 'a t -> bool\n",
    "    val is_just : 'a t -> bool    \n",
    "end = struct \n",
    "    type +'a t  = Nothing | Just of 'a\n",
    "    let nothing = Nothing\n",
    "    let just v = Just v\n",
    "    let is_nothing = function Nothing -> true | _ -> false\n",
    "    let is_just = function Nothing -> false | _ -> true\n",
    "end ;;\n",
    "\n",
    "    let open Maybe in\n",
    "    let v = Just 10 in\n",
    "    Printf.printf \"%B\" (is_just v) ;;"
   ]
  }
 ],
 "metadata": {
  "kernelspec": {
   "display_name": "OCaml 4.12.0",
   "language": "OCaml",
   "name": "ocaml-jupyter-4.12.0"
  },
  "language_info": {
   "codemirror_mode": "text/x-ocaml",
   "file_extension": ".ml",
   "mimetype": "text/x-ocaml",
   "name": "OCaml",
   "nbconverter_exporter": null,
   "pygments_lexer": "OCaml",
   "version": "4.12.0"
  }
 },
 "nbformat": 4,
 "nbformat_minor": 5
}
