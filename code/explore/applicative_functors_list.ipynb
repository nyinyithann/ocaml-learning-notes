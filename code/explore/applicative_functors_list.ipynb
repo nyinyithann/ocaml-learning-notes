{
 "cells": [
  {
   "cell_type": "code",
   "execution_count": null,
   "id": "26c3475a-746d-4d40-8a28-33a4983e4320",
   "metadata": {},
   "outputs": [],
   "source": [
    "let ( >> ) f g x = g (f x)\n",
    "\n",
    "let ( << ) f g x = f (g x)\n",
    "\n",
    "let id x = x\n",
    "\n",
    "let const x _ = x"
   ]
  },
  {
   "cell_type": "code",
   "execution_count": null,
   "id": "79e9faf7-07c7-485d-9697-331e34da598e",
   "metadata": {},
   "outputs": [],
   "source": [
    "module type Monad = sig\n",
    "  type 'a t\n",
    "\n",
    "  val return : 'a -> 'a t\n",
    "\n",
    "  val bind : 'a t -> ('a -> 'b t) -> 'b t\n",
    "\n",
    "  (* infix operator for bind *)\n",
    "  val ( >>= ) : 'a t -> ('a -> 'b t) -> 'b t\n",
    "\n",
    "  (* infix operator for bind *)\n",
    "  val ( let* ) : 'a t -> ('a -> 'b t) -> 'b t\n",
    "end"
   ]
  },
  {
   "cell_type": "code",
   "execution_count": 202,
   "id": "ac0bc5ac-5d8d-4b06-b110-52dcafbeab23",
   "metadata": {},
   "outputs": [
    {
     "data": {
      "text/plain": [
       "module ListMonad :\n",
       "  sig\n",
       "    type 'a t = 'a list\n",
       "    val return : 'a -> 'a t\n",
       "    val bind : 'a t -> ('a -> 'b t) -> 'b t\n",
       "    val ( >>= ) : 'a t -> ('a -> 'b t) -> 'b t\n",
       "    val ( let* ) : 'a t -> ('a -> 'b t) -> 'b t\n",
       "  end\n"
      ]
     },
     "execution_count": 202,
     "metadata": {},
     "output_type": "execute_result"
    }
   ],
   "source": [
    "module ListMonad : Monad with type 'a t = 'a list = struct\n",
    "  type 'a t = 'a list\n",
    "\n",
    "  let return x = [ x ]\n",
    "\n",
    "  let bind l f = List.concat_map f l\n",
    "\n",
    "  let ( >>= ) = bind\n",
    "\n",
    "  let ( let* ) = bind\n",
    "end"
   ]
  },
  {
   "cell_type": "code",
   "execution_count": 203,
   "id": "05af8e33-e9bd-49c9-a1f8-0702a3a5b264",
   "metadata": {},
   "outputs": [
    {
     "data": {
      "text/plain": [
       "module type Functor =\n",
       "  sig\n",
       "    type 'a t\n",
       "    val fmap : ('a -> 'b) -> 'a t -> 'b t\n",
       "    val ( <!> ) : ('a -> 'b) -> 'a t -> 'b t\n",
       "    val ( let+ ) : 'a t -> ('a -> 'b) -> 'b t\n",
       "  end\n"
      ]
     },
     "execution_count": 203,
     "metadata": {},
     "output_type": "execute_result"
    }
   ],
   "source": [
    "module type Functor = sig\n",
    "  type 'a t\n",
    "\n",
    "  val fmap : ('a -> 'b) -> 'a t -> 'b t\n",
    "\n",
    "  (* infix operator for fmap *)\n",
    "  val ( <!> ) : ('a -> 'b) -> 'a t -> 'b t\n",
    "  \n",
    "  (* infix operator for fmap *)\n",
    "  val ( let+ ) : 'a t -> ('a -> 'b) -> 'b t\n",
    "end"
   ]
  },
  {
   "cell_type": "code",
   "execution_count": 204,
   "id": "090d407c-71ba-417d-88f1-f4ca04832e3e",
   "metadata": {},
   "outputs": [
    {
     "data": {
      "text/plain": [
       "module ListFunctor :\n",
       "  sig\n",
       "    type 'a t = 'a list\n",
       "    val fmap : ('a -> 'b) -> 'a t -> 'b t\n",
       "    val ( <!> ) : ('a -> 'b) -> 'a t -> 'b t\n",
       "    val ( let+ ) : 'a t -> ('a -> 'b) -> 'b t\n",
       "  end\n"
      ]
     },
     "execution_count": 204,
     "metadata": {},
     "output_type": "execute_result"
    }
   ],
   "source": [
    "module ListFunctor : Functor with type 'a t = 'a list = struct\n",
    "  type 'a t = 'a list\n",
    "\n",
    "  let fmap f l =\n",
    "    let rec aux acc = function\n",
    "      | [] -> List.rev acc\n",
    "      | x :: xs -> aux (f x :: acc) xs\n",
    "    in\n",
    "    aux [] l\n",
    "\n",
    "  let ( <!> ) = fmap\n",
    "\n",
    "  let ( let+ ) x f = fmap f x\n",
    "end"
   ]
  },
  {
   "cell_type": "code",
   "execution_count": 205,
   "id": "39509b34-f4d2-43af-b12b-8362b1e2299f",
   "metadata": {},
   "outputs": [
    {
     "data": {
      "text/plain": [
       "module type Applicative =\n",
       "  sig\n",
       "    type 'a t\n",
       "    val apply : ('a -> 'b) t -> 'a t -> 'b t\n",
       "    val product : 'a t -> 'b t -> ('a * 'b) t\n",
       "    val ( <*> ) : ('a -> 'b) t -> 'a t -> 'b t\n",
       "    val ( and+ ) : 'a t -> 'b t -> ('a * 'b) t\n",
       "    val ( <* ) : 'a t -> 'b t -> 'a t\n",
       "    val ( *> ) : 'a t -> 'b t -> 'b t\n",
       "    val lift2 : ('a -> 'b -> 'c) -> 'a t -> 'b t -> 'c t\n",
       "    val lift3 : ('a -> 'b -> 'c -> 'd) -> 'a t -> 'b t -> 'c t -> 'd t\n",
       "  end\n"
      ]
     },
     "execution_count": 205,
     "metadata": {},
     "output_type": "execute_result"
    }
   ],
   "source": [
    "module type Applicative = sig\n",
    "  type 'a t\n",
    "\n",
    "  val apply : ('a -> 'b) t -> 'a t -> 'b t\n",
    "\n",
    "  val product : 'a t -> 'b t -> ('a * 'b) t\n",
    "\n",
    "  (* infix operator for apply *)\n",
    "  val ( <*> ) : ('a -> 'b) t -> 'a t -> 'b t\n",
    "\n",
    "  (* infix operator for product *)\n",
    "  val ( and+ ) : 'a t -> 'b t -> ('a * 'b) t\n",
    "\n",
    "  val ( <* ) : 'a t -> 'b t -> 'a t\n",
    "\n",
    "  val ( *> ) : 'a t -> 'b t -> 'b t\n",
    "\n",
    "  val lift2 : ('a -> 'b -> 'c) -> 'a t -> 'b t -> 'c t\n",
    "\n",
    "  val lift3 : ('a -> 'b -> 'c -> 'd) -> 'a t -> 'b t -> 'c t -> 'd t\n",
    "end"
   ]
  },
  {
   "cell_type": "code",
   "execution_count": 206,
   "id": "263e841d-5c79-4e55-bfa1-52acad6c0612",
   "metadata": {},
   "outputs": [
    {
     "data": {
      "text/plain": [
       "module ListApplicative :\n",
       "  sig\n",
       "    type 'a t = 'a list\n",
       "    val apply : ('a -> 'b) t -> 'a t -> 'b t\n",
       "    val product : 'a t -> 'b t -> ('a * 'b) t\n",
       "    val ( <*> ) : ('a -> 'b) t -> 'a t -> 'b t\n",
       "    val ( and+ ) : 'a t -> 'b t -> ('a * 'b) t\n",
       "    val ( <* ) : 'a t -> 'b t -> 'a t\n",
       "    val ( *> ) : 'a t -> 'b t -> 'b t\n",
       "    val lift2 : ('a -> 'b -> 'c) -> 'a t -> 'b t -> 'c t\n",
       "    val lift3 : ('a -> 'b -> 'c -> 'd) -> 'a t -> 'b t -> 'c t -> 'd t\n",
       "  end\n"
      ]
     },
     "execution_count": 206,
     "metadata": {},
     "output_type": "execute_result"
    }
   ],
   "source": [
    "module ListApplicative : Applicative with type 'a t = 'a list =\n",
    "struct\n",
    "  include ListFunctor\n",
    "\n",
    "  type 'a t = 'a list\n",
    "\n",
    "  let pure a = [ a ]\n",
    "\n",
    "  let apply fs ls = List.concat_map (fun f -> List.map (fun x -> f x) ls) fs\n",
    "\n",
    "  let product fs ls =\n",
    "    List.concat_map (fun f -> List.map (fun x -> (f, x)) ls) fs\n",
    "\n",
    "  let ( <*> ) = apply\n",
    "\n",
    "  let ( and+ ) = product\n",
    "\n",
    "  let ( <* ) l1 l2 = const <!> l1 <*> l2\n",
    "\n",
    "  let ( *> ) l1 l2 = (fun _ y -> y) <!> l1 <*> l2\n",
    "\n",
    "  let lift2 f l1 l2 = f <!> l1 <*> l2\n",
    "\n",
    "  let lift3 f l1 l2 l3 = f <!> l1 <*> l2 <*> l3\n",
    "end"
   ]
  },
  {
   "cell_type": "code",
   "execution_count": 207,
   "id": "0b39bb9d-4343-413c-9414-407a634c79d4",
   "metadata": {},
   "outputs": [
    {
     "data": {
      "text/plain": [
       "module List_ex :\n",
       "  sig\n",
       "    val length : 'a list -> int\n",
       "    val compare_lengths : 'a list -> 'b list -> int\n",
       "    val compare_length_with : 'a list -> int -> int\n",
       "    val cons : 'a -> 'a list -> 'a list\n",
       "    val hd : 'a list -> 'a\n",
       "    val tl : 'a list -> 'a list\n",
       "    val nth : 'a list -> int -> 'a\n",
       "    val nth_opt : 'a list -> int -> 'a option\n",
       "    val rev : 'a list -> 'a list\n",
       "    val init : int -> (int -> 'a) -> 'a list\n",
       "    val append : 'a list -> 'a list -> 'a list\n",
       "    val rev_append : 'a list -> 'a list -> 'a list\n",
       "    val concat : 'a list list -> 'a list\n",
       "    val flatten : 'a list list -> 'a list\n",
       "    val equal : ('a -> 'a -> bool) -> 'a list -> 'a list -> bool\n",
       "    val compare : ('a -> 'a -> int) -> 'a list -> 'a list -> int\n",
       "    val iter : ('a -> unit) -> 'a list -> unit\n",
       "    val iteri : (int -> 'a -> unit) -> 'a list -> unit\n",
       "    val map : ('a -> 'b) -> 'a list -> 'b list\n",
       "    val mapi : (int -> 'a -> 'b) -> 'a list -> 'b list\n",
       "    val rev_map : ('a -> 'b) -> 'a list -> 'b list\n",
       "    val filter_map : ('a -> 'b option) -> 'a list -> 'b list\n",
       "    val concat_map : ('a -> 'b list) -> 'a list -> 'b list\n",
       "    val fold_left_map :\n",
       "      ('a -> 'b -> 'a * 'c) -> 'a -> 'b list -> 'a * 'c list\n",
       "    val fold_left : ('a -> 'b -> 'a) -> 'a -> 'b list -> 'a\n",
       "    val fold_right : ('a -> 'b -> 'b) -> 'a list -> 'b -> 'b\n",
       "    val iter2 : ('a -> 'b -> unit) -> 'a list -> 'b list -> unit\n",
       "    val map2 : ('a -> 'b -> 'c) -> 'a list -> 'b list -> 'c list\n",
       "    val rev_map2 : ('a -> 'b -> 'c) -> 'a list -> 'b list -> 'c list\n",
       "    val fold_left2 : ('a -> 'b -> 'c -> 'a) -> 'a -> 'b list -> 'c list -> 'a\n",
       "    val fold_right2 :\n",
       "      ('a -> 'b -> 'c -> 'c) -> 'a list -> 'b list -> 'c -> 'c\n",
       "    val for_all : ('a -> bool) -> 'a list -> bool\n",
       "    val exists : ('a -> bool) -> 'a list -> bool\n",
       "    val for_all2 : ('a -> 'b -> bool) -> 'a list -> 'b list -> bool\n",
       "    val exists2 : ('a -> 'b -> bool) -> 'a list -> 'b list -> bool\n",
       "    val mem : 'a -> 'a list -> bool\n",
       "    val memq : 'a -> 'a list -> bool\n",
       "    val find : ('a -> bool) -> 'a list -> 'a\n",
       "    val find_opt : ('a -> bool) -> 'a list -> 'a option\n",
       "    val find_map : ('a -> 'b option) -> 'a list -> 'b option\n",
       "    val filter : ('a -> bool) -> 'a list -> 'a list\n",
       "    val find_all : ('a -> bool) -> 'a list -> 'a list\n",
       "    val filteri : (int -> 'a -> bool) -> 'a list -> 'a list\n",
       "    val partition : ('a -> bool) -> 'a list -> 'a list * 'a list\n",
       "    val partition_map :\n",
       "      ('a -> ('b, 'c) Either.t) -> 'a list -> 'b list * 'c list\n",
       "    val assoc : 'a -> ('a * 'b) list -> 'b\n",
       "    val assoc_opt : 'a -> ('a * 'b) list -> 'b option\n",
       "    val assq : 'a -> ('a * 'b) list -> 'b\n",
       "    val assq_opt : 'a -> ('a * 'b) list -> 'b option\n",
       "    val mem_assoc : 'a -> ('a * 'b) list -> bool\n",
       "    val mem_assq : 'a -> ('a * 'b) list -> bool\n",
       "    val remove_assoc : 'a -> ('a * 'b) list -> ('a * 'b) list\n",
       "    val remove_assq : 'a -> ('a * 'b) list -> ('a * 'b) list\n",
       "    val split : ('a * 'b) list -> 'a list * 'b list\n",
       "    val combine : 'a list -> 'b list -> ('a * 'b) list\n",
       "    val sort : ('a -> 'a -> int) -> 'a list -> 'a list\n",
       "    val stable_sort : ('a -> 'a -> int) -> 'a list -> 'a list\n",
       "    val fast_sort : ('a -> 'a -> int) -> 'a list -> 'a list\n",
       "    val sort_uniq : ('a -> 'a -> int) -> 'a list -> 'a list\n",
       "    val merge : ('a -> 'a -> int) -> 'a list -> 'a list -> 'a list\n",
       "    val to_seq : 'a list -> 'a Seq.t\n",
       "    val of_seq : 'a Seq.t -> 'a list\n",
       "    val fmap : ('a -> 'b) -> 'a list -> 'b list\n",
       "    val ( <!> ) : ('a -> 'b) -> 'a list -> 'b list\n",
       "    val ( let+ ) : 'a list -> ('a -> 'b) -> 'b list\n",
       "    val apply : ('a -> 'b) list -> 'a list -> 'b list\n",
       "    val product : 'a list -> 'b list -> ('a * 'b) list\n",
       "    val ( <*> ) : ('a -> 'b) list -> 'a list -> 'b list\n",
       "    val ( and+ ) : 'a list -> 'b list -> ('a * 'b) list\n",
       "    val ( <* ) : 'a list -> 'b list -> 'a list\n",
       "    val ( *> ) : 'a list -> 'b list -> 'b list\n",
       "    val lift2 : ('a -> 'b -> 'c) -> 'a list -> 'b list -> 'c list\n",
       "    val lift3 :\n",
       "      ('a -> 'b -> 'c -> 'd) -> 'a list -> 'b list -> 'c list -> 'd list\n",
       "    type 'a t = 'a list\n",
       "    val return : 'a -> 'a t\n",
       "    val bind : 'a t -> ('a -> 'b t) -> 'b t\n",
       "    val ( >>= ) : 'a t -> ('a -> 'b t) -> 'b t\n",
       "    val ( let* ) : 'a t -> ('a -> 'b t) -> 'b t\n",
       "  end\n"
      ]
     },
     "execution_count": 207,
     "metadata": {},
     "output_type": "execute_result"
    }
   ],
   "source": [
    "module List_ex = struct\n",
    "    include Stdlib.List\n",
    "    include ListFunctor\n",
    "    include ListApplicative\n",
    "    include ListMonad\n",
    "end;;"
   ]
  },
  {
   "cell_type": "code",
   "execution_count": 214,
   "id": "8c164171-4f62-4380-8ce3-25870df5a588",
   "metadata": {},
   "outputs": [
    {
     "data": {
      "text/plain": [
       "val nums : int list = [1; 2; 3; 4; 5]\n"
      ]
     },
     "execution_count": 214,
     "metadata": {},
     "output_type": "execute_result"
    },
    {
     "data": {
      "text/plain": [
       "val letters : char list = ['a'; 'b'; 'c']\n"
      ]
     },
     "execution_count": 214,
     "metadata": {},
     "output_type": "execute_result"
    },
    {
     "data": {
      "text/plain": [
       "val r1 : (int * char) List_ex.t =\n",
       "  [(1, 'a'); (1, 'b'); (1, 'c'); (2, 'a'); (2, 'b'); (2, 'c'); (3, 'a');\n",
       "   (3, 'b'); (3, 'c'); (4, 'a'); (4, 'b'); (4, 'c'); (5, 'a'); (5, 'b');\n",
       "   (5, 'c')]\n"
      ]
     },
     "execution_count": 214,
     "metadata": {},
     "output_type": "execute_result"
    },
    {
     "data": {
      "text/plain": [
       "val r2 : (int * char) List_ex.t =\n",
       "  [(1, 'a'); (1, 'b'); (1, 'c'); (2, 'a'); (2, 'b'); (2, 'c'); (3, 'a');\n",
       "   (3, 'b'); (3, 'c'); (4, 'a'); (4, 'b'); (4, 'c'); (5, 'a'); (5, 'b');\n",
       "   (5, 'c')]\n"
      ]
     },
     "execution_count": 214,
     "metadata": {},
     "output_type": "execute_result"
    },
    {
     "data": {
      "text/plain": [
       "val r3 : (int * char) list =\n",
       "  [(1, 'a'); (1, 'b'); (1, 'c'); (2, 'a'); (2, 'b'); (2, 'c'); (3, 'a');\n",
       "   (3, 'b'); (3, 'c'); (4, 'a'); (4, 'b'); (4, 'c'); (5, 'a'); (5, 'b');\n",
       "   (5, 'c')]\n"
      ]
     },
     "execution_count": 214,
     "metadata": {},
     "output_type": "execute_result"
    },
    {
     "data": {
      "text/plain": [
       "val r4 : (int * char) list =\n",
       "  [(1, 'a'); (1, 'b'); (1, 'c'); (2, 'a'); (2, 'b'); (2, 'c'); (3, 'a');\n",
       "   (3, 'b'); (3, 'c'); (4, 'a'); (4, 'b'); (4, 'c'); (5, 'a'); (5, 'b');\n",
       "   (5, 'c')]\n"
      ]
     },
     "execution_count": 214,
     "metadata": {},
     "output_type": "execute_result"
    },
    {
     "data": {
      "text/plain": [
       "- : bool = true\n"
      ]
     },
     "execution_count": 214,
     "metadata": {},
     "output_type": "execute_result"
    },
    {
     "data": {
      "text/plain": [
       "- : int list = [1; 1; 1; 2; 2; 2; 3; 3; 3]\n"
      ]
     },
     "execution_count": 214,
     "metadata": {},
     "output_type": "execute_result"
    },
    {
     "data": {
      "text/plain": [
       "- : int list = [3; 4; 5; 3; 4; 5; 3; 4; 5]\n"
      ]
     },
     "execution_count": 214,
     "metadata": {},
     "output_type": "execute_result"
    },
    {
     "data": {
      "text/plain": [
       "val repeat : int -> 'a list -> 'a list = <fun>\n"
      ]
     },
     "execution_count": 214,
     "metadata": {},
     "output_type": "execute_result"
    },
    {
     "data": {
      "text/plain": [
       "val replicate : int -> 'a -> 'a list = <fun>\n"
      ]
     },
     "execution_count": 214,
     "metadata": {},
     "output_type": "execute_result"
    },
    {
     "data": {
      "text/plain": [
       "- : string list =\n",
       "[\"a\"; \"b\"; \"a\"; \"b\"; \"a\"; \"b\"; \"a\"; \"b\"; \"a\"; \"b\"; \"a\"; \"b\"; \"a\"; \"b\"; \"a\";\n",
       " \"b\"; \"a\"; \"b\"; \"a\"; \"b\"]\n"
      ]
     },
     "execution_count": 214,
     "metadata": {},
     "output_type": "execute_result"
    },
    {
     "data": {
      "text/plain": [
       "- : char list = ['R'; 'R'; 'R'; 'R'; 'R'; 'R'; 'R'; 'R'; 'R'; 'R']\n"
      ]
     },
     "execution_count": 214,
     "metadata": {},
     "output_type": "execute_result"
    },
    {
     "data": {
      "text/plain": [
       "val add10 : int -> int = <fun>\n"
      ]
     },
     "execution_count": 214,
     "metadata": {},
     "output_type": "execute_result"
    },
    {
     "data": {
      "text/plain": [
       "val add20 : int -> int = <fun>\n"
      ]
     },
     "execution_count": 214,
     "metadata": {},
     "output_type": "execute_result"
    },
    {
     "data": {
      "text/plain": [
       "- : int list = [11; 12; 13; 14; 15; 21; 22; 23; 24; 25]\n"
      ]
     },
     "execution_count": 214,
     "metadata": {},
     "output_type": "execute_result"
    },
    {
     "data": {
      "text/plain": [
       "- : int list = [11; 12; 13; 14; 15; 21; 22; 23; 24; 25]\n"
      ]
     },
     "execution_count": 214,
     "metadata": {},
     "output_type": "execute_result"
    }
   ],
   "source": [
    "open List_ex;;\n",
    "let nums = [1;2;3;4;5];;\n",
    "let letters = ['a'; 'b'; 'c'];;\n",
    "let r1 = \n",
    "    nums >>= fun n ->\n",
    "    letters >>= fun l ->\n",
    "    return (n, l);;\n",
    "let r2 =\n",
    "    let* n = nums in\n",
    "    let* l = letters in\n",
    "    return (n,l);;\n",
    "let r3 =\n",
    "    (fun x y -> (x,y)) <!> nums <*> letters;;\n",
    "let r4 =\n",
    "    let+ x = nums \n",
    "    and+ y = letters in\n",
    "    (x,y);;\n",
    "r1 = r2 && r1 = r3 && r1 = r4;;\n",
    "[1;2;3] <* [3;4;5] ;;\n",
    "[1;2;3] *> [3;4;5] ;;\n",
    "\n",
    "let repeat n pattern =\n",
    "    (List.init n (fun x -> x)) *> pattern;;\n",
    "let replicate n x =\n",
    "    repeat n [x];;\n",
    "    \n",
    "repeat 10 [\"a\";\"b\"];;\n",
    "replicate 10 'R';;\n",
    "\n",
    "let add10 x = x + 10;;\n",
    "let add20 x = x + 20;;\n",
    "[add10; add20] <*> nums;;\n",
    "\n",
    "lift2 (fun x y -> x + y) [10;20] nums ;;"
   ]
  },
  {
   "cell_type": "code",
   "execution_count": null,
   "id": "72ed3850-a1c1-4262-a5a2-11b3fb0e1420",
   "metadata": {},
   "outputs": [],
   "source": [
    "let n1 = [10;100];;\n",
    "let n2 = [1;2;3];;\n",
    "[(+)] <*> n1 <*> n2;;\n",
    "(+) <!> n1 <*> n2;;\n",
    "let+ x = n1 and+ y = n2 in x + y;;"
   ]
  },
  {
   "cell_type": "code",
   "execution_count": 1,
   "id": "55398424-1fb9-4f5e-a629-fad68d9e4d33",
   "metadata": {},
   "outputs": [
    {
     "data": {
      "text/plain": [
       "val add : int -> int -> int = <fun>\n"
      ]
     },
     "execution_count": 1,
     "metadata": {},
     "output_type": "execute_result"
    },
    {
     "data": {
      "text/plain": [
       "- : int = 3\n"
      ]
     },
     "execution_count": 1,
     "metadata": {},
     "output_type": "execute_result"
    }
   ],
   "source": [
    "let add a b = a + b;;\n",
    "add 1 2;;"
   ]
  }
 ],
 "metadata": {
  "kernelspec": {
   "display_name": "OCaml 4.12.0",
   "language": "OCaml",
   "name": "ocaml-jupyter"
  },
  "language_info": {
   "codemirror_mode": "text/x-ocaml",
   "file_extension": ".ml",
   "mimetype": "text/x-ocaml",
   "name": "OCaml",
   "nbconverter_exporter": null,
   "pygments_lexer": "OCaml",
   "version": "4.12.0"
  },
  "widgets": {
   "application/vnd.jupyter.widget-state+json": {
    "state": {},
    "version_major": 2,
    "version_minor": 0
   }
  }
 },
 "nbformat": 4,
 "nbformat_minor": 5
}
