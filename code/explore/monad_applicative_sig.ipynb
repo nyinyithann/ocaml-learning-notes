{
 "cells": [
  {
   "cell_type": "markdown",
   "id": "b0a1c006-587f-45db-ae3f-d608c9925c15",
   "metadata": {},
   "source": [
    "# Monad & Applicative Operators"
   ]
  },
  {
   "cell_type": "code",
   "execution_count": 105,
   "id": "0f86d8d0-a394-420c-9c26-51f1c559736d",
   "metadata": {},
   "outputs": [
    {
     "data": {
      "text/plain": [
       "val return : 'a -> 'a option = <fun>\n"
      ]
     },
     "execution_count": 105,
     "metadata": {},
     "output_type": "execute_result"
    },
    {
     "data": {
      "text/plain": [
       "val ( let* ) : 'a option -> ('a -> 'b option) -> 'b option = <fun>\n"
      ]
     },
     "execution_count": 105,
     "metadata": {},
     "output_type": "execute_result"
    },
    {
     "data": {
      "text/plain": [
       "val ( let+ ) : 'a option -> ('a -> 'b) -> 'b option = <fun>\n"
      ]
     },
     "execution_count": 105,
     "metadata": {},
     "output_type": "execute_result"
    },
    {
     "data": {
      "text/plain": [
       "val map : ('a -> 'b) -> 'a option -> 'b option = <fun>\n"
      ]
     },
     "execution_count": 105,
     "metadata": {},
     "output_type": "execute_result"
    },
    {
     "data": {
      "text/plain": [
       "val product : 'a option -> 'b option -> ('a * 'b) option = <fun>\n"
      ]
     },
     "execution_count": 105,
     "metadata": {},
     "output_type": "execute_result"
    },
    {
     "data": {
      "text/plain": [
       "val ( and+ ) : 'a option -> 'b option -> ('a * 'b) option = <fun>\n"
      ]
     },
     "execution_count": 105,
     "metadata": {},
     "output_type": "execute_result"
    },
    {
     "data": {
      "text/plain": [
       "val apply : ('a -> 'b) option -> 'a option -> 'b option = <fun>\n"
      ]
     },
     "execution_count": 105,
     "metadata": {},
     "output_type": "execute_result"
    },
    {
     "data": {
      "text/plain": [
       "val ( <~> ) : ('a -> 'b) option -> 'a option -> 'b option = <fun>\n"
      ]
     },
     "execution_count": 105,
     "metadata": {},
     "output_type": "execute_result"
    },
    {
     "data": {
      "text/plain": [
       "val apply_via_map_product : ('a -> 'b) option -> 'a option -> 'b option =\n",
       "  <fun>\n"
      ]
     },
     "execution_count": 105,
     "metadata": {},
     "output_type": "execute_result"
    },
    {
     "data": {
      "text/plain": [
       "val plus_one : int -> int = <fun>\n"
      ]
     },
     "execution_count": 105,
     "metadata": {},
     "output_type": "execute_result"
    },
    {
     "data": {
      "text/plain": [
       "- : int option = Some 11\n"
      ]
     },
     "execution_count": 105,
     "metadata": {},
     "output_type": "execute_result"
    },
    {
     "data": {
      "text/plain": [
       "- : int option = Some 22\n"
      ]
     },
     "execution_count": 105,
     "metadata": {},
     "output_type": "execute_result"
    },
    {
     "data": {
      "text/plain": [
       "- : int option = Some 22\n"
      ]
     },
     "execution_count": 105,
     "metadata": {},
     "output_type": "execute_result"
    }
   ],
   "source": [
    "(* \n",
    "   val bind : 'a t -> ('a -> b' t) -> 'b t\n",
    "   val map : ('a -> 'b) -> 'b t -> 'b t\n",
    "   val product : 'a t -> 'b t -> ('a * 'b) t\n",
    "   val apply : ('a -> 'b) t -> 'a t -> 'b t   \n",
    "*)\n",
    "\n",
    "let return = Option.some ;;\n",
    "let (let*) = Option.bind ;;\n",
    "let (let+) x f = map f x ;;\n",
    "\n",
    "\n",
    "let map f o = let* o = o in return (f o) ;;\n",
    "\n",
    "let product o1 o2 = let* o1 = o1 in let* o2 = o2 in return (o1, o2) ;;\n",
    "let (and+) = product\n",
    "\n",
    "let apply f o = let* f = f in map f o ;;\n",
    "let (<~>) = apply ;;\n",
    "\n",
    "let apply_via_map_product f o = map (fun (f,o) -> f o) @@ product f o  ;;\n",
    "\n",
    "let plus_one = fun x -> x + 1 ;;\n",
    "apply (return plus_one) (Some 10) ;;\n",
    "\n",
    "apply (apply (return (fun x y -> (x + 1) + (y + 1))) (Some 10) ) (Some 10) ;;\n",
    "(return (fun x y -> (x + 1) + (y + 1))) <~> (Some 10) <~> (Some 10) ;;"
   ]
  },
  {
   "cell_type": "code",
   "execution_count": 27,
   "id": "d68cabc7-07a2-44fd-a8d9-9590676d1f8a",
   "metadata": {},
   "outputs": [
    {
     "data": {
      "text/plain": [
       "module type MA =\n",
       "  sig\n",
       "    type 'a t\n",
       "    val return : 'a -> 'a t\n",
       "    val bind : 'a t -> ('a -> 'b t) -> 'b t\n",
       "    val map : ('a -> 'b) -> 'a t -> 'b t\n",
       "    val both : 'a t -> 'b t -> ('a * 'b) t\n",
       "    val apply : ('a -> 'b) t -> 'a t -> 'b t\n",
       "    val skip_left : 'a t -> 'b t -> 'b t\n",
       "    val skip_right : 'a t -> 'b t -> 'a t\n",
       "    val either : 'a t -> 'a t -> 'a t\n",
       "    val choice : 'a t list -> 'a t\n",
       "    val sequence : 'a t list -> 'a list t\n",
       "    val many : 'a t -> 'a t list\n",
       "    val many1 : 'a t -> 'a t list\n",
       "    val lift2 : ('a -> 'b -> 'c) -> 'a t -> 'b t -> 'c t\n",
       "    val lift3 : ('a -> 'b -> 'c -> 'd) -> 'a t -> 'b t -> 'c t -> 'd t\n",
       "    val opt : 'a t -> 'a option t\n",
       "    val sep : 'a t -> 'b t -> 'a list t\n",
       "    val sep1 : 'a t -> 'b t -> 'a list t\n",
       "  end\n"
      ]
     },
     "execution_count": 27,
     "metadata": {},
     "output_type": "execute_result"
    }
   ],
   "source": [
    "module type PARSER = sig\n",
    "    type 'a t\n",
    "    \n",
    "    val return : 'a -> 'a t\n",
    "    \n",
    "    val bind : 'a t -> ('a -> 'b t) -> 'b t\n",
    "\n",
    "    val map : ('a -> 'b) -> 'a t -> 'b t\n",
    "    \n",
    "    val both : 'a t -> 'b t -> ('a * 'b) t\n",
    "    \n",
    "    val apply : ('a -> 'b) t -> 'a t -> 'b t\n",
    "    \n",
    "    val skip_left : 'a t -> 'b t -> 'b t\n",
    "    \n",
    "    val skip_right : 'a t -> 'b t -> 'a t\n",
    "    \n",
    "    val either : 'a t -> 'a t -> 'a t\n",
    "    \n",
    "    val choice : 'a t list -> 'a t\n",
    "    \n",
    "    val sequence : 'a t list -> 'a list t\n",
    "    \n",
    "    val many : 'a t -> 'a t list\n",
    "    \n",
    "    val many1 : 'a t -> 'a t list\n",
    "    \n",
    "    val lift2 : ('a -> 'b -> 'c) -> 'a t -> 'b t -> 'c t\n",
    "    \n",
    "    val lift3 : ('a -> 'b -> 'c -> 'd) -> 'a t -> 'b t -> 'c t -> 'd t\n",
    "    \n",
    "    val opt : 'a t -> 'a option t\n",
    "    \n",
    "    val sep : 'a t -> 'b t -> 'a list t\n",
    "    \n",
    "    val sep1 : 'a t -> 'b t -> 'a list t\n",
    "end ;;"
   ]
  },
  {
   "cell_type": "code",
   "execution_count": 84,
   "id": "b3fa97de-6776-48ef-83a6-38d039d32945",
   "metadata": {},
   "outputs": [
    {
     "data": {
      "text/plain": [
       "module Parser :\n",
       "  sig\n",
       "    type 'a parser_result = Success of 'a * string | Failure of string\n",
       "    type 'a t = string -> 'a parser_result\n",
       "    val return : 'a -> 'a t\n",
       "    val bind : 'a t -> ('a -> 'b t) -> 'b t\n",
       "    val ( let* ) : 'a t -> ('a -> 'b t) -> 'b t\n",
       "    val map : ('a -> 'b) -> 'a t -> 'b t\n",
       "    val ( let+ ) : 'a t -> ('a -> 'b) -> 'b t\n",
       "    val ( |>> ) : 'a t -> ('a -> 'b) -> 'b t\n",
       "    val both : 'a t -> 'b t -> ('a * 'b) t\n",
       "    val ( and+ ) : 'a t -> 'b t -> ('a * 'b) t\n",
       "    val ( <**> ) : 'a t -> 'b t -> ('a * 'b) t\n",
       "    val apply : ('a -> 'b) t -> 'a t -> 'b t\n",
       "    val ( <~> ) : ('a -> 'b) t -> 'a t -> 'b t\n",
       "    val ( *> ) : 'a t -> 'b t -> 'a t\n",
       "    val ( <* ) : 'a t -> 'b t -> 'b t\n",
       "    val either : 'a t -> 'a t -> 'a t\n",
       "  end\n"
      ]
     },
     "execution_count": 84,
     "metadata": {},
     "output_type": "execute_result"
    }
   ],
   "source": [
    "module Parser  = struct\n",
    "    type 'a parser_result = Success of 'a * string | Failure of string\n",
    "    type 'a t = string -> 'a parser_result \n",
    "    let return (a: 'a) : 'a t = let q s = Success(a, s) in q\n",
    "    let bind (p: 'a t) (f: 'a -> 'b t) : 'b t = let q s = match p s with Success (a, r) -> (f a) s | Failure _ as f -> f in q \n",
    "    let (let*) = bind\n",
    "    let map (f: 'a -> 'b) (p:'a t) : 'b t = let* a = p in return (f a)\n",
    "    let (let+) x f = map f x\n",
    "    let (|>>) x f = map f x   \n",
    "    let both (p1 : 'a t) (p2 : 'b t) : ('a * 'b) t = let* a = p1 in let* b = p2 in return (a, b)\n",
    "    let (and+) = both\n",
    "    let (<**>) = both    \n",
    "    let apply (f: ('a -> 'b) t) (p : 'a t) : 'b t = let* f' = f in let* a = p in return (f' a)\n",
    "    let (<~>) = apply\n",
    "    let ( *> ) p1 p2 = p1 <**> p2 |>> (fun (a,_) -> a)\n",
    "    let ( <* ) p1 p2 = p1 <**> p2 |>> (fun (_,b) -> b)\n",
    "    let either (p1: 'a t) (p2: 'a t) : 'a t = let q s = match p1 s with Failure _ -> p2 s | Success _ as y -> y in q   \n",
    "    let ( <|> ) = either\n",
    "    \n",
    "end ;;"
   ]
  }
 ],
 "metadata": {
  "kernelspec": {
   "display_name": "OCaml 4.12.0",
   "language": "OCaml",
   "name": "ocaml-jupyter-4.12.0"
  },
  "language_info": {
   "codemirror_mode": "text/x-ocaml",
   "file_extension": ".ml",
   "mimetype": "text/x-ocaml",
   "name": "OCaml",
   "nbconverter_exporter": null,
   "pygments_lexer": "OCaml",
   "version": "4.12.0"
  },
  "widgets": {
   "application/vnd.jupyter.widget-state+json": {
    "state": {},
    "version_major": 2,
    "version_minor": 0
   }
  }
 },
 "nbformat": 4,
 "nbformat_minor": 5
}
