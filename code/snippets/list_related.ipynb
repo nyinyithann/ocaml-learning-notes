{
 "cells": [
  {
   "cell_type": "markdown",
   "id": "5302802d-9693-49d9-a4f0-4fd151bc74c4",
   "metadata": {},
   "source": [
    "# List Unique"
   ]
  },
  {
   "cell_type": "code",
   "execution_count": 2,
   "id": "dc96a840-cfe5-4891-96c8-04bf8e27d987",
   "metadata": {},
   "outputs": [
    {
     "data": {
      "text/plain": [
       "val mem : compare:('a -> 'a -> int) -> 'a -> 'a list -> bool = <fun>\n"
      ]
     },
     "execution_count": 2,
     "metadata": {},
     "output_type": "execute_result"
    },
    {
     "data": {
      "text/plain": [
       "val uniq : compare:('a -> 'a -> int) -> 'a list -> 'a list = <fun>\n"
      ]
     },
     "execution_count": 2,
     "metadata": {},
     "output_type": "execute_result"
    }
   ],
   "source": [
    "let rec mem ~(compare : 'a -> 'a -> int) x = function\n",
    "  | [] -> false\n",
    "  | a :: l -> compare a x = 0 || (mem [@tailcall]) ~compare x l\n",
    "\n",
    "let uniq ~compare l =\n",
    "  let rec uniq acc = function\n",
    "    | [] -> List.rev acc\n",
    "    | x :: xs when mem ~compare x xs -> uniq acc xs\n",
    "    | x :: xs -> uniq (x :: acc) xs\n",
    "  in\n",
    "  uniq [] l "
   ]
  }
 ],
 "metadata": {
  "kernelspec": {
   "display_name": "OCaml 4.12.0",
   "language": "OCaml",
   "name": "ocaml-jupyter-4.12.0"
  },
  "language_info": {
   "codemirror_mode": "text/x-ocaml",
   "file_extension": ".ml",
   "mimetype": "text/x-ocaml",
   "name": "OCaml",
   "nbconverter_exporter": null,
   "pygments_lexer": "OCaml",
   "version": "4.12.0"
  },
  "widgets": {
   "application/vnd.jupyter.widget-state+json": {
    "state": {},
    "version_major": 2,
    "version_minor": 0
   }
  }
 },
 "nbformat": 4,
 "nbformat_minor": 5
}
