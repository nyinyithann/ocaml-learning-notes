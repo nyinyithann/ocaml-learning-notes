{
 "cells": [
  {
   "cell_type": "markdown",
   "id": "81e23242-35a9-4cc4-b572-4579d3196938",
   "metadata": {},
   "source": [
    "# Basic"
   ]
  },
  {
   "cell_type": "markdown",
   "id": "c54158d2-0721-4e64-95ec-8b9c840c06b3",
   "metadata": {},
   "source": [
    "##### 🟢 &nbsp; &nbsp; unit\n",
    "- https://v2.ocaml.org/api/Unit.html"
   ]
  },
  {
   "cell_type": "markdown",
   "id": "9dae410b-a9e7-4657-93e9-0445a787d89a",
   "metadata": {},
   "source": [
    "Unit has only one value `unit`. `()` is the constructor of `Unit.t` type. `()` is not intended to use in user-defined data types."
   ]
  },
  {
   "cell_type": "code",
   "execution_count": 1,
   "id": "422679a1-eb17-427f-b39a-60284a0746cd",
   "metadata": {},
   "outputs": [
    {
     "data": {
      "text/plain": [
       "val u1 : unit = ()\n"
      ]
     },
     "execution_count": 1,
     "metadata": {},
     "output_type": "execute_result"
    },
    {
     "data": {
      "text/plain": [
       "val u2 : unit = ()\n"
      ]
     },
     "execution_count": 1,
     "metadata": {},
     "output_type": "execute_result"
    },
    {
     "data": {
      "text/plain": [
       "- : bool = true\n"
      ]
     },
     "execution_count": 1,
     "metadata": {},
     "output_type": "execute_result"
    },
    {
     "data": {
      "text/plain": [
       "- : int = 0\n"
      ]
     },
     "execution_count": 1,
     "metadata": {},
     "output_type": "execute_result"
    },
    {
     "data": {
      "text/plain": [
       "- : string = \"()\"\n"
      ]
     },
     "execution_count": 1,
     "metadata": {},
     "output_type": "execute_result"
    },
    {
     "name": "stderr",
     "output_type": "stream",
     "text": [
      "File \"[1]\", line 10, characters 0-20:\n",
      "10 | type foo = () of int ;;\n",
      "     ^^^^^^^^^^^^^^^^^^^^\n",
      "Warning 65 [redefining-unit]: This type declaration is defining a new '()' constructor\n",
      "which shadows the existing one.\n",
      "Hint: Did you mean 'type foo = unit'?\n"
     ]
    },
    {
     "data": {
      "text/plain": [
       "type foo = () of int\n"
      ]
     },
     "execution_count": 1,
     "metadata": {},
     "output_type": "execute_result"
    },
    {
     "data": {
      "text/plain": [
       "- : int = 20\n"
      ]
     },
     "execution_count": 1,
     "metadata": {},
     "output_type": "execute_result"
    }
   ],
   "source": [
    "(* type t = unit = | () ;; *)\n",
    "\n",
    "let u1 : unit = () ;;\n",
    "let u2 : unit = () ;;\n",
    "Unit.equal u1 u2 ;;\n",
    "Unit.compare u1 u2 ;;\n",
    "Unit.to_string u1 ;;\n",
    "\n",
    "(* not intendend to use this way *)\n",
    "type foo = () of int ;;\n",
    "10 * (1 + 1) ;; "
   ]
  },
  {
   "cell_type": "markdown",
   "id": "3ad28e83-0617-4662-9ca6-8c451b2e71ba",
   "metadata": {},
   "source": [
    "##### 🟢 &nbsp; &nbsp; int: The Integers\n",
    "- https://v2.ocaml.org/api/Int.html\n",
    "- https://v2.ocaml.org/api/Int32.html\n",
    "- https://v2.ocaml.org/api/Int64.html"
   ]
  },
  {
   "cell_type": "markdown",
   "id": "1fdbd610-e319-4791-b3a4-51ace48597e9",
   "metadata": {},
   "source": [
    "`int` has 31 bits on 32-bit machine, 63 bits on 64-bit machine. One bit is reserved as the tag bit.<br/>\n",
    "_\"This bit is used to distinguish between integers and pointers to structures on the heap, and the distinction is only necessary if we are calling a polymorphic function. In the case above, where we are calling string_of_int, the argument can only ever be an int and so the tag bit would never be consulted. Nevertheless, to avoid having two internal representations for integers, all integers in OCaml carry around the tag bit.\"_\n",
    "<br/>-- https://ocaml.org/docs/profiling<br/><br/>\n",
    "`int32` has 32 bits on all platform. Literals for 32-bit integers are suffixed by l: `10l`\n",
    "<br/>`int64` has 64 bits on all platform. Literals for 64-bit integers are suffixed by L: `20L`\n",
    "<br/>`Nativeint` is signed 32-bit/64-bit integer on 32/64-bit machine. Similiar to C's pointer. Occupy more memory space and slower than `int`. suffixed by n: `10n`\n",
    "<br/><br/>\n",
    "No built-in unsigned integers like uint8, uint16:<br/><br/>\n",
    "_*\"One reason to use narrower integer values is to save space when you have a lot of them. For this case there is the Bigarray module, which supports arrays of signed and unsigned values of 8 and 16 bits, plus the integer types ...\"*_\n",
    "<br/>--https://stackoverflow.com/questions/32674170/what-is-the-equivalent-of-uint16-t-and-uint8-t"
   ]
  },
  {
   "cell_type": "code",
   "execution_count": 2,
   "id": "4223877e-dba2-403f-a5db-5411dcd6d793",
   "metadata": {},
   "outputs": [
    {
     "data": {
      "text/plain": [
       "val i : int = 65535\n"
      ]
     },
     "execution_count": 2,
     "metadata": {},
     "output_type": "execute_result"
    },
    {
     "data": {
      "text/plain": [
       "val i : int = 65535\n"
      ]
     },
     "execution_count": 2,
     "metadata": {},
     "output_type": "execute_result"
    },
    {
     "data": {
      "text/plain": [
       "val i : int = 65535\n"
      ]
     },
     "execution_count": 2,
     "metadata": {},
     "output_type": "execute_result"
    },
    {
     "data": {
      "text/plain": [
       "val i : int32 = 256l\n"
      ]
     },
     "execution_count": 2,
     "metadata": {},
     "output_type": "execute_result"
    },
    {
     "data": {
      "text/plain": [
       "val i : int64 = 512L\n"
      ]
     },
     "execution_count": 2,
     "metadata": {},
     "output_type": "execute_result"
    }
   ],
   "source": [
    "let i : int = 0o177_777 ;;\n",
    "let i : int = 0xFFFF ;;\n",
    "let i : int = 0b1111_1111_1111_1111 ;;\n",
    "\n",
    "let i : int32 = 256l ;;\n",
    "let i : int64 = 512L ;;"
   ]
  },
  {
   "cell_type": "markdown",
   "id": "5884f62a-0ae1-4829-b47d-31803ad4241b",
   "metadata": {},
   "source": [
    "integer operations"
   ]
  },
  {
   "cell_type": "code",
   "execution_count": null,
   "id": "fc78146f-62c8-48d5-97f7-9c661f2bb03f",
   "metadata": {},
   "outputs": [],
   "source": [
    "(* negation *)\n",
    "( ~- ) 1 ;; \n",
    "-1 ;;\n",
    "\n",
    "(* identity *)\n",
    "( ~+ ) (11) ;;\n",
    "( ~+ ) (-11) ;;\n",
    "+11 ;;\n",
    "+(-11) ;;\n",
    "\n",
    "succ 1 ;;\n",
    "pred 1 ;;\n",
    "\n",
    "( + ) 1 1 ;;\n",
    "( - ) 1 1 ;;\n",
    "( * ) 2 2 ;;\n",
    "( / ) 155 2 ;;\n",
    "( mod) 155 2 ;;\n",
    "Int.rem 155 2 ;;\n",
    "\n",
    "abs 1 ;;\n",
    "abs (-1) ;;\n",
    "\n",
    "max_int ;;\n",
    "min_int ;;"
   ]
  },
  {
   "cell_type": "markdown",
   "id": "c5866de8-6080-4a43-be66-381cd95f37af",
   "metadata": {},
   "source": [
    "integer bitwise operations"
   ]
  },
  {
   "cell_type": "code",
   "execution_count": null,
   "id": "0b0c6876-3a0f-46a8-a59d-c6184c56193e",
   "metadata": {},
   "outputs": [],
   "source": [
    "(* bitwise logical and, left-associative *)\n",
    "1 land 2 ;;\n",
    "2 land 3 ;;\n",
    "\n",
    "(* bitwise logical or, left-associative *)\n",
    "1 lor 2 ;;\n",
    "\n",
    "(* bitwise logical exclusive or, left-associative *)\n",
    "(* xor : true if and only if its arguments differ (one is true, the other is false) *)\n",
    "1 lxor 2 ;;\n",
    "\n",
    "(* bitwise logical negation *)\n",
    "lnot 0 ;;\n",
    "lnot 1 ;;\n",
    "lnot (-1) ;;\n",
    "\n",
    "(* left shift, right-associative (i lsl 2 = i x 2 power j) *)\n",
    "1 lsl 2 ;; \n",
    "\n",
    "(* right shift, right-associative (i lsr 2 = i / 2 power j) *)\n",
    "4 lsr 2 ;;\n",
    "\n",
    "(* right arithmetic shift, right-associative (i asr j = i / 2 power j)*)\n",
    "6 asr 2;;"
   ]
  },
  {
   "cell_type": "markdown",
   "id": "adaa37ee-1f5d-4893-b667-8f26d0645ec0",
   "metadata": {},
   "source": [
    "integer conversion functions"
   ]
  },
  {
   "cell_type": "code",
   "execution_count": null,
   "id": "28c6ba3b-1c69-4274-bd5d-64e8cf62e708",
   "metadata": {},
   "outputs": [],
   "source": [
    "string_of_int 123 ;;\n",
    "\n",
    "int_of_string \"84_000\" ;;\n",
    "int_of_string \"0XFFFF_FFFF\" ;;\n",
    "int_of_string_opt \"002\" ;;\n",
    "int_of_string_opt \"0u12345\" ;; \n",
    "int_of_string_opt \"0xFFFF\" ;; \n",
    "int_of_string_opt \"0o7777\" ;; \n",
    "int_of_string_opt \"0b0000_1000\" ;; \n",
    "\n",
    "int_of_float 1.1 ;;\n",
    "int_of_char 'a' ;;"
   ]
  },
  {
   "cell_type": "markdown",
   "id": "fea86b10-428e-4b62-b320-adc83041ec98",
   "metadata": {},
   "source": [
    "##### 🟢 &nbsp; &nbsp; float: The Floating-point numbers\n",
    "- https://v2.ocaml.org/api/Float.html"
   ]
  },
  {
   "cell_type": "markdown",
   "id": "39c516cd-09fb-41be-bee6-59e7f9e415be",
   "metadata": {},
   "source": [
    "- IEEE 754 standard, double precision 64-bits number.\n",
    "- no exception raised on overflow, underflow, division by zero\n",
    "- float numbers are boxed unlike int or bool. arrays of floats `[1.;2.]` are unboxed. But should use Float.Array instead due to performance reason.\n",
    "<br/><br/>\n",
    "_*\"OCaml uses a uniform runtime representation of values, where each value can be stored in one machine word (32 or 64 bits). Some kind of values such a integers or Booleans are natively represented in this word. Other kinds are represented through a pointer: the word represents a pointer to the heap managed by the OCaml garbage collector (GC) and the actual data is found in the target block. The GC needs to distinguish between pointers and immediate values, and this is done by reserving one bit in each value words. This leaves only 31 or 63 bits for immediate values, and explain why OCaml integers are indeed 31 or 63 bit long, not 32 or 64. Since OCaml floats are 64-bit IEEE 754 numbers, they cannot be represented as an immediate value. The “regular” compilation strategy employed by OCaml is thus to wrap floats into allocated blocks. This is known as “boxing”. Because of it, a single float value occupies 3 words (on a 64-bit machine): the pointer, the block’s header word, and the data itself. This also mean that a block needs to be allocated everytime a new float value is created.\"*_\n",
    "<br/>--https://www.lexifi.com/blog/ocaml/unboxed-floats-ocaml/"
   ]
  },
  {
   "cell_type": "code",
   "execution_count": null,
   "id": "667b3710-075c-4695-a32a-46ffcb28d1dd",
   "metadata": {},
   "outputs": [],
   "source": [
    "let pi : float = 3.1415 ;;\n",
    "let light = 186.e3 ;;\n",
    "let planck_constant = 6.62607015e-32 ;;\n",
    "\n",
    "1.0 /. 0.0 ;; (* infinity *)\n",
    "-1.0 /. 0.0 ;; (* neg_infinity *)\n",
    "0.0 /. 0.0 ;; (* nan *)\n",
    "\n",
    "(* negation *)\n",
    "( ~-. ) 1. ;; \n",
    " -.1. ;;\n",
    "\n",
    "(* identity *)\n",
    "( ~+. ) (11.) ;;\n",
    "( ~+. ) (-11.) ;;\n",
    "+.11. ;;\n",
    "+.(-11.) ;;\n",
    "\n",
    "( +. ) 1. 1. ;;\n",
    "( -. ) 1. 1. ;;\n",
    "( *. ) 2. 2. ;;\n",
    "( /. ) 5. 2. ;;\n",
    "\n",
    "(* exponentiation, right-associative *)\n",
    "( ** ) 2. 4. ;;\n",
    "\n",
    "(* square root *)\n",
    "sqrt 9. ;;\n",
    "\n",
    "ceil 9.5 ;;\n",
    "ceil 9.1 ;;\n",
    "ceil 9. ;;\n",
    "\n",
    "floor 9.5 ;;\n",
    "floor 9.1 ;;\n",
    "floor 9. ;;\n",
    "\n",
    "abs_float (-.99.) ;;\n",
    "abs_float (99.) ;;\n",
    "\n",
    "mod_float 5.3 2. ;;\n",
    "\n",
    "(* returns the pair of the fractional and integral part *)\n",
    "modf 4.23 ;;\n",
    "\n",
    "(* int to float *)\n",
    "float 99 ;;\n",
    "float_of_int 99 ;;\n",
    "\n",
    "(* int of float *)\n",
    "truncate 99.9 ;;\n",
    "int_of_float 99.9 ;;\n",
    "\n",
    "infinity ;;\n",
    "neg_infinity ;;\n",
    "nan ;;\n",
    "nan = nan ;; (* false *)\n",
    "nan == nan ;; (* true *)\n",
    "\n",
    "max_float ;;\n",
    "min_float ;;\n",
    "\n",
    "string_of_float 0.001 ;; \n",
    "float_of_string \"0.001\" ;;\n",
    "float_of_string_opt \"3.145134_234\" ;;\n",
    "float_of_string_opt \"0xFFFF\" ;;\n",
    "float_of_string_opt \"1.01e2\" ;;\n",
    "float_of_string_opt \"-1.01e2\" ;;\n",
    "float_of_string_opt \"1.01e-2\" ;;\n",
    "float_of_string_opt \"-1.01e-2\" ;;\n",
    "float_of_string_opt \"0xF.A\" ;;\n",
    "float_of_string_opt \"0xF.Ap11\" ;;"
   ]
  },
  {
   "cell_type": "markdown",
   "id": "0a7dfc97-f5a6-4db8-8c37-8e2d8866c49e",
   "metadata": {},
   "source": [
    "Note: <br/>\n",
    "- From the documentation on compare, \"max 0. nan\" may:\n",
    "raise an error: \"the comparison predicates treat nan as different from any other float value, including itself\"\n",
    "return 0.: \"compare treats nan as equal to itself and less than any other float value\"\n",
    "or return nan: \"any operation with nan as argument returns nan as result\"\n",
    "(introduction of Floating-point arithmetic section)\n"
   ]
  },
  {
   "cell_type": "code",
   "execution_count": null,
   "id": "e15b65b1-b36b-4618-90ab-b86c4e913637",
   "metadata": {},
   "outputs": [],
   "source": [
    "max nan 0. ;; (* nan *)\n",
    "max 0. nan ;; (* 0. *)\n",
    "min nan 0. ;; (* nan *)\n",
    "min 0. nan ;; (* 0. *)"
   ]
  },
  {
   "cell_type": "markdown",
   "id": "78d0c151-59ca-4fdc-bbb7-3c13767247f6",
   "metadata": {},
   "source": [
    "The comparison predicates treat nan as different from any other float value, including itself; while `compare` treats nan as equal to itself and less than any other float value. This treatment of nan ensures that compare defines a total ordering relation."
   ]
  },
  {
   "cell_type": "code",
   "execution_count": 71,
   "id": "cb2cb89a-9516-47af-b2bc-837f6871770e",
   "metadata": {},
   "outputs": [
    {
     "data": {
      "text/plain": [
       "- : bool = false\n"
      ]
     },
     "execution_count": 71,
     "metadata": {},
     "output_type": "execute_result"
    },
    {
     "data": {
      "text/plain": [
       "- : bool = false\n"
      ]
     },
     "execution_count": 71,
     "metadata": {},
     "output_type": "execute_result"
    },
    {
     "data": {
      "text/plain": [
       "- : int = 0\n"
      ]
     },
     "execution_count": 71,
     "metadata": {},
     "output_type": "execute_result"
    },
    {
     "data": {
      "text/plain": [
       "- : int = 1\n"
      ]
     },
     "execution_count": 71,
     "metadata": {},
     "output_type": "execute_result"
    }
   ],
   "source": [
    "nan > nan ;; (* false *)\n",
    "nan = nan ;; (* false *)\n",
    "compare nan nan ;; (* 0 *)\n",
    "compare 0.0 nan ;; (* 1 *)"
   ]
  },
  {
   "cell_type": "markdown",
   "id": "745aa1f7-550b-4ab0-afce-4c472b601da1",
   "metadata": {},
   "source": [
    "float numbers are boxed."
   ]
  },
  {
   "cell_type": "code",
   "execution_count": null,
   "id": "73795ae0-a471-43a2-989b-4981bf3ae660",
   "metadata": {},
   "outputs": [],
   "source": [
    "1. = 1. ;; (* true *)\n",
    "1. == 1. ;; (* false in bytecode because == checks physial equality. Remember float numbers are allocated on heap. *)\n",
    "\n",
    "(* since Ocaml 4.02 an optimisation makes 1.0 == 1.0 true in native code, but not in bytecode *)"
   ]
  },
  {
   "cell_type": "markdown",
   "id": "17e38214-847d-4332-9dd4-a7edb59524c2",
   "metadata": {},
   "source": [
    "##### 🟢 &nbsp; &nbsp; char: The Characters\n",
    "_*\"Character values are represented as 8-bit integers between 0 and 255. Character codes between 0 and 127 are interpreted following the ASCII standard. The current implementation interprets character codes between 128 and 255 following the ISO 8859-1 standard.\"*_\n",
    "<br/> -- https://v2.ocaml.org/releases/4.13/htmlman/values.html"
   ]
  },
  {
   "cell_type": "code",
   "execution_count": null,
   "id": "5e80f7ba-e42c-4194-a196-8cd59b018b97",
   "metadata": {},
   "outputs": [],
   "source": [
    "let ch : char = 'a' ;;\n",
    "(*\n",
    "    escape sequence\n",
    "      \\\\      |backslash (\\)                                   \n",
    "      \\\"      |double quote (\")                                \n",
    "      \\'      |single quote (')                                \n",
    "      \\n      |linefeed (LF)                                   \n",
    "      \\r      |carriage return (CR)                            \n",
    "      \\t      |horizontal tabulation (TAB)                     \n",
    "      \\b      |backspace (BS)                                  \n",
    "      \\space  |space (SPC)                                     \n",
    "      \\ddd    |the character with ASCII code ddd in decimal    \n",
    "      \\xhh    |the character with ASCII code hh in hexadecimal \n",
    "      \\oooo   |the character with ASCII code ooo in octal  \n",
    "*)\n",
    "let ch = '\\123' ;;\n",
    "let ch = '\\x2F' ;;\n",
    "let ch = '\\077' ;;\n",
    "\n",
    "Char.code 'a' ;;\n",
    "Char.chr 97 ;;\n",
    "'\\ ' = ' ' ;; (* space *)\n",
    "\n",
    "(* in string, unicode is written as *)\n",
    "let str : string  = \"copyright \\u{A9}\" ;;"
   ]
  },
  {
   "cell_type": "markdown",
   "id": "aba78dee-b8aa-413b-a52a-d6d48e2c279d",
   "metadata": {},
   "source": [
    "##### 🟢 &nbsp; &nbsp; string: Character Strings\n",
    "- String values are finite sequences of characters. The current implementation supports strings containing up to 224−5 characters (16777211 characters); on 64-bit platforms, the limit is 257−9.\n",
    "- `string` is immutable, use `bytes` for mutable string."
   ]
  },
  {
   "cell_type": "code",
   "execution_count": null,
   "id": "4704ba45-155e-41c5-9c73-69fa4b8cc8d5",
   "metadata": {},
   "outputs": [],
   "source": [
    "let msg = \"Hello, World!\\u{207A}\" ;;\n",
    "let longstr = \n",
    "\"Whether I shall turn out to be the hero of my own life, \\\n",
    "or whether that station will be held by anybody else, \\\n",
    "these pages must show. To begin my life with the beginning of my life, \\\n",
    "I record that I was born (as I have been informed and believe) on a Friday, \\\n",
    "at twelve o’clock at night. It was remarked that the clock began to strike, \\\n",
    "and I began to cry, simultaneously.\n",
    "\" ;;\n",
    "\n",
    "(* Quoted string literal : arbitrary content without escaping *)\n",
    "let quoted_str = {qid| {|OCaml|} 'Love is OCaml!' \"Objective Categorical Abstract Machine Language\" |qid} ;;"
   ]
  },
  {
   "cell_type": "markdown",
   "id": "c475b31f-997b-49a6-ae0d-0829b090b7a8",
   "metadata": {},
   "source": [
    "##### 🟢 &nbsp; &nbsp; bool: The Boolean values\n",
    "- `true` and `false` boolean value\n",
    "- `true` and `false` are type constructors and not intended to used in user-defianed types."
   ]
  },
  {
   "cell_type": "code",
   "execution_count": null,
   "id": "d071ac9a-9ee1-4a3d-9b65-ddc3c459d395",
   "metadata": {},
   "outputs": [],
   "source": [
    "let b = true && false ;;\n",
    "let b = not b ;;\n",
    "let b = true || b ;;\n",
    "Bool.to_int true ;;\n",
    "Bool.to_int false ;;\n",
    "Bool.to_string true ;;"
   ]
  },
  {
   "cell_type": "markdown",
   "id": "9b50c498-75b8-4bd5-bdf9-369d7f638df9",
   "metadata": {},
   "source": [
    "##### 🟢 &nbsp; &nbsp; Tuples\n",
    "- Tuples of values are written (v1, …, vn), standing for the n-tuple of values v1 to vn. The current implementation supports tuple of up to 222 − 1 elements (4194303 elements)."
   ]
  },
  {
   "cell_type": "code",
   "execution_count": 3,
   "id": "37f304aa-9153-4e38-bfaf-562eb1c41e5b",
   "metadata": {},
   "outputs": [
    {
     "data": {
      "text/plain": [
       "val ryan : int * string = (17, \"Friday\")\n"
      ]
     },
     "execution_count": 3,
     "metadata": {},
     "output_type": "execute_result"
    },
    {
     "data": {
      "text/plain": [
       "- : int = 17\n"
      ]
     },
     "execution_count": 3,
     "metadata": {},
     "output_type": "execute_result"
    },
    {
     "data": {
      "text/plain": [
       "- : string = \"Friday\"\n"
      ]
     },
     "execution_count": 3,
     "metadata": {},
     "output_type": "execute_result"
    },
    {
     "data": {
      "text/plain": [
       "val ryan : int * string * int = (17, \"Friday\", 2016)\n"
      ]
     },
     "execution_count": 3,
     "metadata": {},
     "output_type": "execute_result"
    },
    {
     "data": {
      "text/plain": [
       "val day : int * 'a * 'a -> 'a = <fun>\n"
      ]
     },
     "execution_count": 3,
     "metadata": {},
     "output_type": "execute_result"
    },
    {
     "data": {
      "text/plain": [
       "- : int = 6\n"
      ]
     },
     "execution_count": 3,
     "metadata": {},
     "output_type": "execute_result"
    },
    {
     "data": {
      "text/plain": [
       "- : int = 30\n"
      ]
     },
     "execution_count": 3,
     "metadata": {},
     "output_type": "execute_result"
    }
   ],
   "source": [
    "let ryan = (17, \"Friday\") ;;\n",
    "fst (ryan) ;;\n",
    "snd (ryan) ;;\n",
    "\n",
    "let ryan = (17, \"Friday\", 2016) ;;\n",
    "\n",
    "let day (17,_, x|_,x,_) = x ;;\n",
    "day (10, 6, 30) ;;\n",
    "day (17, 100, 30) ;;"
   ]
  },
  {
   "cell_type": "code",
   "execution_count": null,
   "id": "15af0b34-d372-4ae0-8200-22a65f6113c3",
   "metadata": {},
   "outputs": [],
   "source": []
  }
 ],
 "metadata": {
  "autoscrollcelloutput": true,
  "kernelspec": {
   "display_name": "OCaml 4.14.1",
   "language": "OCaml",
   "name": "ocaml-jupyter-4.14.1"
  },
  "language_info": {
   "codemirror_mode": "text/x-ocaml",
   "file_extension": ".ml",
   "mimetype": "text/x-ocaml",
   "name": "OCaml",
   "nbconverter_exporter": null,
   "pygments_lexer": "OCaml",
   "version": "4.14.1"
  },
  "widgets": {
   "application/vnd.jupyter.widget-state+json": {
    "state": {},
    "version_major": 2,
    "version_minor": 0
   }
  }
 },
 "nbformat": 4,
 "nbformat_minor": 5
}
